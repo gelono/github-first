{
 "cells": [
  {
   "cell_type": "markdown",
   "metadata": {},
   "source": [
    "## Creation of a synthetic trading instrument\n",
    "\n",
    "   ###      One of the ways to reduce trading risks and avoid dependence on market trends is to create your own trading instrument with certain properties characteristic of a stationary time series, namely, with the property of a constantly return to the mean value.\n",
    "   \n",
    "   ###      The general idea is this: you need to select two existing trading instruments that have a fundamental relationship with each other, preferably with a high correlation coefficient (absolute). Express one instrument (Y) through another (X) using a regression model. And then subtract from the price of one instrument (Y) the price of another (X), multiplied by the regression coefficient. Thus, we get a graph of \"noise\" or errors (synthetic trading instrument). And if this chart is a stationary time series, then it is perfect for trading range strategies."
   ]
  },
  {
   "cell_type": "markdown",
   "metadata": {},
   "source": [
    "### Let's try to build a synthetic instrument (spread or difference) based on Oil (light sweet) and Fuel oil futures contracts. Due to the fact that they both represent the energy sector, and fuel oil is a derivative of oil, it can be assumed that there is a strong fundamental relationship between them. We will download data of daily closing prices of these instruments from the Metatrader 4 terminal in CSV format and create a pandas dataframe out of them."
   ]
  },
  {
   "cell_type": "code",
   "execution_count": 1,
   "metadata": {},
   "outputs": [],
   "source": [
    "import pandas as pd"
   ]
  },
  {
   "cell_type": "markdown",
   "metadata": {},
   "source": [
    "### Getting Fuel oil data"
   ]
  },
  {
   "cell_type": "code",
   "execution_count": 2,
   "metadata": {},
   "outputs": [
    {
     "data": {
      "text/html": [
       "<div>\n",
       "<style scoped>\n",
       "    .dataframe tbody tr th:only-of-type {\n",
       "        vertical-align: middle;\n",
       "    }\n",
       "\n",
       "    .dataframe tbody tr th {\n",
       "        vertical-align: top;\n",
       "    }\n",
       "\n",
       "    .dataframe thead th {\n",
       "        text-align: right;\n",
       "    }\n",
       "</style>\n",
       "<table border=\"1\" class=\"dataframe\">\n",
       "  <thead>\n",
       "    <tr style=\"text-align: right;\">\n",
       "      <th></th>\n",
       "      <th>Date</th>\n",
       "      <th>Time</th>\n",
       "      <th>Open</th>\n",
       "      <th>High</th>\n",
       "      <th>Low</th>\n",
       "      <th>Close</th>\n",
       "      <th>Volume</th>\n",
       "    </tr>\n",
       "  </thead>\n",
       "  <tbody>\n",
       "    <tr>\n",
       "      <th>0</th>\n",
       "      <td>2011.03.03</td>\n",
       "      <td>00:00</td>\n",
       "      <td>3.0602</td>\n",
       "      <td>3.0659</td>\n",
       "      <td>3.0114</td>\n",
       "      <td>3.0529</td>\n",
       "      <td>1018</td>\n",
       "    </tr>\n",
       "    <tr>\n",
       "      <th>1</th>\n",
       "      <td>2011.03.04</td>\n",
       "      <td>00:00</td>\n",
       "      <td>3.0529</td>\n",
       "      <td>3.0924</td>\n",
       "      <td>3.0510</td>\n",
       "      <td>3.0834</td>\n",
       "      <td>524</td>\n",
       "    </tr>\n",
       "    <tr>\n",
       "      <th>2</th>\n",
       "      <td>2011.03.07</td>\n",
       "      <td>00:00</td>\n",
       "      <td>3.1097</td>\n",
       "      <td>3.1371</td>\n",
       "      <td>3.0363</td>\n",
       "      <td>3.0447</td>\n",
       "      <td>1367</td>\n",
       "    </tr>\n",
       "    <tr>\n",
       "      <th>3</th>\n",
       "      <td>2011.03.08</td>\n",
       "      <td>00:00</td>\n",
       "      <td>3.0447</td>\n",
       "      <td>3.0703</td>\n",
       "      <td>2.9824</td>\n",
       "      <td>3.0000</td>\n",
       "      <td>1312</td>\n",
       "    </tr>\n",
       "    <tr>\n",
       "      <th>4</th>\n",
       "      <td>2011.03.09</td>\n",
       "      <td>00:00</td>\n",
       "      <td>3.0000</td>\n",
       "      <td>3.0899</td>\n",
       "      <td>2.9929</td>\n",
       "      <td>3.0868</td>\n",
       "      <td>1073</td>\n",
       "    </tr>\n",
       "  </tbody>\n",
       "</table>\n",
       "</div>"
      ],
      "text/plain": [
       "         Date   Time    Open    High     Low   Close  Volume\n",
       "0  2011.03.03  00:00  3.0602  3.0659  3.0114  3.0529    1018\n",
       "1  2011.03.04  00:00  3.0529  3.0924  3.0510  3.0834     524\n",
       "2  2011.03.07  00:00  3.1097  3.1371  3.0363  3.0447    1367\n",
       "3  2011.03.08  00:00  3.0447  3.0703  2.9824  3.0000    1312\n",
       "4  2011.03.09  00:00  3.0000  3.0899  2.9929  3.0868    1073"
      ]
     },
     "execution_count": 2,
     "metadata": {},
     "output_type": "execute_result"
    }
   ],
   "source": [
    "column_names = ['Date', 'Time', 'Open', 'High', 'Low', 'Close', 'Volume']\n",
    "Data_HO = pd.read_csv('https://raw.githubusercontent.com/gelono/github-first/f28b5374d4cfd3a9af6c4dbd680adee19e8375d4/HO1440.csv', header = None, names = column_names)\n",
    "Data_HO.head()"
   ]
  },
  {
   "cell_type": "code",
   "execution_count": 3,
   "metadata": {},
   "outputs": [
    {
     "name": "stdout",
     "output_type": "stream",
     "text": [
      "<class 'pandas.core.frame.DataFrame'>\n",
      "RangeIndex: 2412 entries, 0 to 2411\n",
      "Data columns (total 7 columns):\n",
      "Date      2412 non-null object\n",
      "Time      2412 non-null object\n",
      "Open      2412 non-null float64\n",
      "High      2412 non-null float64\n",
      "Low       2412 non-null float64\n",
      "Close     2412 non-null float64\n",
      "Volume    2412 non-null int64\n",
      "dtypes: float64(4), int64(1), object(2)\n",
      "memory usage: 132.0+ KB\n"
     ]
    }
   ],
   "source": [
    "Data_HO.info()"
   ]
  },
  {
   "cell_type": "markdown",
   "metadata": {},
   "source": [
    "### Let's take data from the beginning of 2017"
   ]
  },
  {
   "cell_type": "code",
   "execution_count": 4,
   "metadata": {},
   "outputs": [
    {
     "name": "stdout",
     "output_type": "stream",
     "text": [
      "(array([1512], dtype=int64),)\n"
     ]
    }
   ],
   "source": [
    "import numpy as np\n",
    "print(np.where(Data_HO['Date'] == '2017.01.03'))"
   ]
  },
  {
   "cell_type": "code",
   "execution_count": 5,
   "metadata": {},
   "outputs": [
    {
     "data": {
      "text/html": [
       "<div>\n",
       "<style scoped>\n",
       "    .dataframe tbody tr th:only-of-type {\n",
       "        vertical-align: middle;\n",
       "    }\n",
       "\n",
       "    .dataframe tbody tr th {\n",
       "        vertical-align: top;\n",
       "    }\n",
       "\n",
       "    .dataframe thead th {\n",
       "        text-align: right;\n",
       "    }\n",
       "</style>\n",
       "<table border=\"1\" class=\"dataframe\">\n",
       "  <thead>\n",
       "    <tr style=\"text-align: right;\">\n",
       "      <th></th>\n",
       "      <th>Date</th>\n",
       "      <th>Time</th>\n",
       "      <th>Open</th>\n",
       "      <th>High</th>\n",
       "      <th>Low</th>\n",
       "      <th>Close</th>\n",
       "      <th>Volume</th>\n",
       "    </tr>\n",
       "  </thead>\n",
       "  <tbody>\n",
       "    <tr>\n",
       "      <th>1512</th>\n",
       "      <td>2017.01.03</td>\n",
       "      <td>00:00</td>\n",
       "      <td>1.7294</td>\n",
       "      <td>1.7639</td>\n",
       "      <td>1.6717</td>\n",
       "      <td>1.6821</td>\n",
       "      <td>32196</td>\n",
       "    </tr>\n",
       "    <tr>\n",
       "      <th>1513</th>\n",
       "      <td>2017.01.04</td>\n",
       "      <td>00:00</td>\n",
       "      <td>1.6832</td>\n",
       "      <td>1.6981</td>\n",
       "      <td>1.6644</td>\n",
       "      <td>1.6866</td>\n",
       "      <td>29120</td>\n",
       "    </tr>\n",
       "    <tr>\n",
       "      <th>1514</th>\n",
       "      <td>2017.01.05</td>\n",
       "      <td>00:00</td>\n",
       "      <td>1.6856</td>\n",
       "      <td>1.7048</td>\n",
       "      <td>1.6697</td>\n",
       "      <td>1.6956</td>\n",
       "      <td>29080</td>\n",
       "    </tr>\n",
       "    <tr>\n",
       "      <th>1515</th>\n",
       "      <td>2017.01.06</td>\n",
       "      <td>00:00</td>\n",
       "      <td>1.6972</td>\n",
       "      <td>1.7139</td>\n",
       "      <td>1.6771</td>\n",
       "      <td>1.6958</td>\n",
       "      <td>27792</td>\n",
       "    </tr>\n",
       "    <tr>\n",
       "      <th>1516</th>\n",
       "      <td>2017.01.09</td>\n",
       "      <td>00:00</td>\n",
       "      <td>1.7009</td>\n",
       "      <td>1.7021</td>\n",
       "      <td>1.6334</td>\n",
       "      <td>1.6337</td>\n",
       "      <td>24710</td>\n",
       "    </tr>\n",
       "  </tbody>\n",
       "</table>\n",
       "</div>"
      ],
      "text/plain": [
       "            Date   Time    Open    High     Low   Close  Volume\n",
       "1512  2017.01.03  00:00  1.7294  1.7639  1.6717  1.6821   32196\n",
       "1513  2017.01.04  00:00  1.6832  1.6981  1.6644  1.6866   29120\n",
       "1514  2017.01.05  00:00  1.6856  1.7048  1.6697  1.6956   29080\n",
       "1515  2017.01.06  00:00  1.6972  1.7139  1.6771  1.6958   27792\n",
       "1516  2017.01.09  00:00  1.7009  1.7021  1.6334  1.6337   24710"
      ]
     },
     "execution_count": 5,
     "metadata": {},
     "output_type": "execute_result"
    }
   ],
   "source": [
    "Data_HO.drop(Data_HO.index[range(1512)], inplace = True)\n",
    "Data_HO.head()"
   ]
  },
  {
   "cell_type": "code",
   "execution_count": 6,
   "metadata": {
    "scrolled": true
   },
   "outputs": [
    {
     "data": {
      "text/html": [
       "<div>\n",
       "<style scoped>\n",
       "    .dataframe tbody tr th:only-of-type {\n",
       "        vertical-align: middle;\n",
       "    }\n",
       "\n",
       "    .dataframe tbody tr th {\n",
       "        vertical-align: top;\n",
       "    }\n",
       "\n",
       "    .dataframe thead th {\n",
       "        text-align: right;\n",
       "    }\n",
       "</style>\n",
       "<table border=\"1\" class=\"dataframe\">\n",
       "  <thead>\n",
       "    <tr style=\"text-align: right;\">\n",
       "      <th></th>\n",
       "      <th>Date</th>\n",
       "      <th>Time</th>\n",
       "      <th>Open</th>\n",
       "      <th>High</th>\n",
       "      <th>Low</th>\n",
       "      <th>Close</th>\n",
       "      <th>Volume</th>\n",
       "    </tr>\n",
       "  </thead>\n",
       "  <tbody>\n",
       "    <tr>\n",
       "      <th>0</th>\n",
       "      <td>2017.01.03</td>\n",
       "      <td>00:00</td>\n",
       "      <td>1.7294</td>\n",
       "      <td>1.7639</td>\n",
       "      <td>1.6717</td>\n",
       "      <td>1.6821</td>\n",
       "      <td>32196</td>\n",
       "    </tr>\n",
       "    <tr>\n",
       "      <th>1</th>\n",
       "      <td>2017.01.04</td>\n",
       "      <td>00:00</td>\n",
       "      <td>1.6832</td>\n",
       "      <td>1.6981</td>\n",
       "      <td>1.6644</td>\n",
       "      <td>1.6866</td>\n",
       "      <td>29120</td>\n",
       "    </tr>\n",
       "    <tr>\n",
       "      <th>2</th>\n",
       "      <td>2017.01.05</td>\n",
       "      <td>00:00</td>\n",
       "      <td>1.6856</td>\n",
       "      <td>1.7048</td>\n",
       "      <td>1.6697</td>\n",
       "      <td>1.6956</td>\n",
       "      <td>29080</td>\n",
       "    </tr>\n",
       "    <tr>\n",
       "      <th>3</th>\n",
       "      <td>2017.01.06</td>\n",
       "      <td>00:00</td>\n",
       "      <td>1.6972</td>\n",
       "      <td>1.7139</td>\n",
       "      <td>1.6771</td>\n",
       "      <td>1.6958</td>\n",
       "      <td>27792</td>\n",
       "    </tr>\n",
       "    <tr>\n",
       "      <th>4</th>\n",
       "      <td>2017.01.09</td>\n",
       "      <td>00:00</td>\n",
       "      <td>1.7009</td>\n",
       "      <td>1.7021</td>\n",
       "      <td>1.6334</td>\n",
       "      <td>1.6337</td>\n",
       "      <td>24710</td>\n",
       "    </tr>\n",
       "  </tbody>\n",
       "</table>\n",
       "</div>"
      ],
      "text/plain": [
       "         Date   Time    Open    High     Low   Close  Volume\n",
       "0  2017.01.03  00:00  1.7294  1.7639  1.6717  1.6821   32196\n",
       "1  2017.01.04  00:00  1.6832  1.6981  1.6644  1.6866   29120\n",
       "2  2017.01.05  00:00  1.6856  1.7048  1.6697  1.6956   29080\n",
       "3  2017.01.06  00:00  1.6972  1.7139  1.6771  1.6958   27792\n",
       "4  2017.01.09  00:00  1.7009  1.7021  1.6334  1.6337   24710"
      ]
     },
     "execution_count": 6,
     "metadata": {},
     "output_type": "execute_result"
    }
   ],
   "source": [
    "Data_HO = Data_HO.reset_index(drop=True)\n",
    "Data_HO.head()"
   ]
  },
  {
   "cell_type": "markdown",
   "metadata": {},
   "source": [
    "### We convert date data to datetime type"
   ]
  },
  {
   "cell_type": "code",
   "execution_count": 7,
   "metadata": {},
   "outputs": [
    {
     "name": "stdout",
     "output_type": "stream",
     "text": [
      "<class 'pandas.core.frame.DataFrame'>\n",
      "RangeIndex: 900 entries, 0 to 899\n",
      "Data columns (total 7 columns):\n",
      "Date      900 non-null datetime64[ns]\n",
      "Time      900 non-null object\n",
      "Open      900 non-null float64\n",
      "High      900 non-null float64\n",
      "Low       900 non-null float64\n",
      "Close     900 non-null float64\n",
      "Volume    900 non-null int64\n",
      "dtypes: datetime64[ns](1), float64(4), int64(1), object(1)\n",
      "memory usage: 49.3+ KB\n"
     ]
    }
   ],
   "source": [
    "Data_HO['Date'] = pd.to_datetime(Data_HO['Date'])\n",
    "Data_HO.info()"
   ]
  },
  {
   "cell_type": "code",
   "execution_count": 8,
   "metadata": {
    "scrolled": true
   },
   "outputs": [
    {
     "data": {
      "text/html": [
       "<div>\n",
       "<style scoped>\n",
       "    .dataframe tbody tr th:only-of-type {\n",
       "        vertical-align: middle;\n",
       "    }\n",
       "\n",
       "    .dataframe tbody tr th {\n",
       "        vertical-align: top;\n",
       "    }\n",
       "\n",
       "    .dataframe thead th {\n",
       "        text-align: right;\n",
       "    }\n",
       "</style>\n",
       "<table border=\"1\" class=\"dataframe\">\n",
       "  <thead>\n",
       "    <tr style=\"text-align: right;\">\n",
       "      <th></th>\n",
       "      <th>Date</th>\n",
       "      <th>Time</th>\n",
       "      <th>Open</th>\n",
       "      <th>High</th>\n",
       "      <th>Low</th>\n",
       "      <th>Close</th>\n",
       "      <th>Volume</th>\n",
       "    </tr>\n",
       "  </thead>\n",
       "  <tbody>\n",
       "    <tr>\n",
       "      <th>0</th>\n",
       "      <td>2017-01-03</td>\n",
       "      <td>00:00</td>\n",
       "      <td>1.7294</td>\n",
       "      <td>1.7639</td>\n",
       "      <td>1.6717</td>\n",
       "      <td>1.6821</td>\n",
       "      <td>32196</td>\n",
       "    </tr>\n",
       "    <tr>\n",
       "      <th>1</th>\n",
       "      <td>2017-01-04</td>\n",
       "      <td>00:00</td>\n",
       "      <td>1.6832</td>\n",
       "      <td>1.6981</td>\n",
       "      <td>1.6644</td>\n",
       "      <td>1.6866</td>\n",
       "      <td>29120</td>\n",
       "    </tr>\n",
       "    <tr>\n",
       "      <th>2</th>\n",
       "      <td>2017-01-05</td>\n",
       "      <td>00:00</td>\n",
       "      <td>1.6856</td>\n",
       "      <td>1.7048</td>\n",
       "      <td>1.6697</td>\n",
       "      <td>1.6956</td>\n",
       "      <td>29080</td>\n",
       "    </tr>\n",
       "    <tr>\n",
       "      <th>3</th>\n",
       "      <td>2017-01-06</td>\n",
       "      <td>00:00</td>\n",
       "      <td>1.6972</td>\n",
       "      <td>1.7139</td>\n",
       "      <td>1.6771</td>\n",
       "      <td>1.6958</td>\n",
       "      <td>27792</td>\n",
       "    </tr>\n",
       "    <tr>\n",
       "      <th>4</th>\n",
       "      <td>2017-01-09</td>\n",
       "      <td>00:00</td>\n",
       "      <td>1.7009</td>\n",
       "      <td>1.7021</td>\n",
       "      <td>1.6334</td>\n",
       "      <td>1.6337</td>\n",
       "      <td>24710</td>\n",
       "    </tr>\n",
       "  </tbody>\n",
       "</table>\n",
       "</div>"
      ],
      "text/plain": [
       "        Date   Time    Open    High     Low   Close  Volume\n",
       "0 2017-01-03  00:00  1.7294  1.7639  1.6717  1.6821   32196\n",
       "1 2017-01-04  00:00  1.6832  1.6981  1.6644  1.6866   29120\n",
       "2 2017-01-05  00:00  1.6856  1.7048  1.6697  1.6956   29080\n",
       "3 2017-01-06  00:00  1.6972  1.7139  1.6771  1.6958   27792\n",
       "4 2017-01-09  00:00  1.7009  1.7021  1.6334  1.6337   24710"
      ]
     },
     "execution_count": 8,
     "metadata": {},
     "output_type": "execute_result"
    }
   ],
   "source": [
    "Data_HO.head()"
   ]
  },
  {
   "cell_type": "markdown",
   "metadata": {},
   "source": [
    "### Getting Oil data"
   ]
  },
  {
   "cell_type": "code",
   "execution_count": 9,
   "metadata": {},
   "outputs": [
    {
     "data": {
      "text/html": [
       "<div>\n",
       "<style scoped>\n",
       "    .dataframe tbody tr th:only-of-type {\n",
       "        vertical-align: middle;\n",
       "    }\n",
       "\n",
       "    .dataframe tbody tr th {\n",
       "        vertical-align: top;\n",
       "    }\n",
       "\n",
       "    .dataframe thead th {\n",
       "        text-align: right;\n",
       "    }\n",
       "</style>\n",
       "<table border=\"1\" class=\"dataframe\">\n",
       "  <thead>\n",
       "    <tr style=\"text-align: right;\">\n",
       "      <th></th>\n",
       "      <th>Date</th>\n",
       "      <th>Time</th>\n",
       "      <th>Open</th>\n",
       "      <th>High</th>\n",
       "      <th>Low</th>\n",
       "      <th>Close</th>\n",
       "      <th>Volume</th>\n",
       "    </tr>\n",
       "  </thead>\n",
       "  <tbody>\n",
       "    <tr>\n",
       "      <th>0</th>\n",
       "      <td>2008.10.08</td>\n",
       "      <td>00:00</td>\n",
       "      <td>89.56</td>\n",
       "      <td>90.98</td>\n",
       "      <td>86.04</td>\n",
       "      <td>88.79</td>\n",
       "      <td>912</td>\n",
       "    </tr>\n",
       "    <tr>\n",
       "      <th>1</th>\n",
       "      <td>2008.10.09</td>\n",
       "      <td>00:00</td>\n",
       "      <td>88.79</td>\n",
       "      <td>89.81</td>\n",
       "      <td>84.18</td>\n",
       "      <td>84.93</td>\n",
       "      <td>741</td>\n",
       "    </tr>\n",
       "    <tr>\n",
       "      <th>2</th>\n",
       "      <td>2008.10.10</td>\n",
       "      <td>00:00</td>\n",
       "      <td>84.93</td>\n",
       "      <td>85.12</td>\n",
       "      <td>77.09</td>\n",
       "      <td>80.12</td>\n",
       "      <td>1126</td>\n",
       "    </tr>\n",
       "    <tr>\n",
       "      <th>3</th>\n",
       "      <td>2008.10.13</td>\n",
       "      <td>00:00</td>\n",
       "      <td>80.12</td>\n",
       "      <td>82.51</td>\n",
       "      <td>79.45</td>\n",
       "      <td>82.00</td>\n",
       "      <td>425</td>\n",
       "    </tr>\n",
       "    <tr>\n",
       "      <th>4</th>\n",
       "      <td>2008.10.14</td>\n",
       "      <td>00:00</td>\n",
       "      <td>82.00</td>\n",
       "      <td>84.82</td>\n",
       "      <td>78.31</td>\n",
       "      <td>78.75</td>\n",
       "      <td>978</td>\n",
       "    </tr>\n",
       "  </tbody>\n",
       "</table>\n",
       "</div>"
      ],
      "text/plain": [
       "         Date   Time   Open   High    Low  Close  Volume\n",
       "0  2008.10.08  00:00  89.56  90.98  86.04  88.79     912\n",
       "1  2008.10.09  00:00  88.79  89.81  84.18  84.93     741\n",
       "2  2008.10.10  00:00  84.93  85.12  77.09  80.12    1126\n",
       "3  2008.10.13  00:00  80.12  82.51  79.45  82.00     425\n",
       "4  2008.10.14  00:00  82.00  84.82  78.31  78.75     978"
      ]
     },
     "execution_count": 9,
     "metadata": {},
     "output_type": "execute_result"
    }
   ],
   "source": [
    "column_names = ['Date', 'Time', 'Open', 'High', 'Low', 'Close', 'Volume']\n",
    "Data_CL = pd.read_csv('https://raw.githubusercontent.com/gelono/github-first/master/CL1440.csv', header = None, names = column_names)\n",
    "Data_CL.head()"
   ]
  },
  {
   "cell_type": "markdown",
   "metadata": {},
   "source": [
    "### We also take data from the beginning of 2017 and convert date data to datetime type"
   ]
  },
  {
   "cell_type": "code",
   "execution_count": 10,
   "metadata": {},
   "outputs": [
    {
     "name": "stdout",
     "output_type": "stream",
     "text": [
      "(array([2121], dtype=int64),)\n"
     ]
    }
   ],
   "source": [
    "print(np.where(Data_CL['Date'] == '2017.01.03'))"
   ]
  },
  {
   "cell_type": "code",
   "execution_count": 11,
   "metadata": {},
   "outputs": [
    {
     "data": {
      "text/html": [
       "<div>\n",
       "<style scoped>\n",
       "    .dataframe tbody tr th:only-of-type {\n",
       "        vertical-align: middle;\n",
       "    }\n",
       "\n",
       "    .dataframe tbody tr th {\n",
       "        vertical-align: top;\n",
       "    }\n",
       "\n",
       "    .dataframe thead th {\n",
       "        text-align: right;\n",
       "    }\n",
       "</style>\n",
       "<table border=\"1\" class=\"dataframe\">\n",
       "  <thead>\n",
       "    <tr style=\"text-align: right;\">\n",
       "      <th></th>\n",
       "      <th>Date</th>\n",
       "      <th>Time</th>\n",
       "      <th>Open</th>\n",
       "      <th>High</th>\n",
       "      <th>Low</th>\n",
       "      <th>Close</th>\n",
       "      <th>Volume</th>\n",
       "    </tr>\n",
       "  </thead>\n",
       "  <tbody>\n",
       "    <tr>\n",
       "      <th>2121</th>\n",
       "      <td>2017.01.03</td>\n",
       "      <td>00:00</td>\n",
       "      <td>54.12</td>\n",
       "      <td>55.22</td>\n",
       "      <td>52.11</td>\n",
       "      <td>52.47</td>\n",
       "      <td>13897</td>\n",
       "    </tr>\n",
       "    <tr>\n",
       "      <th>2122</th>\n",
       "      <td>2017.01.04</td>\n",
       "      <td>00:00</td>\n",
       "      <td>52.50</td>\n",
       "      <td>53.37</td>\n",
       "      <td>52.14</td>\n",
       "      <td>53.34</td>\n",
       "      <td>11522</td>\n",
       "    </tr>\n",
       "    <tr>\n",
       "      <th>2123</th>\n",
       "      <td>2017.01.05</td>\n",
       "      <td>00:00</td>\n",
       "      <td>53.37</td>\n",
       "      <td>54.10</td>\n",
       "      <td>52.79</td>\n",
       "      <td>53.75</td>\n",
       "      <td>10866</td>\n",
       "    </tr>\n",
       "    <tr>\n",
       "      <th>2124</th>\n",
       "      <td>2017.01.06</td>\n",
       "      <td>00:00</td>\n",
       "      <td>53.73</td>\n",
       "      <td>54.30</td>\n",
       "      <td>53.31</td>\n",
       "      <td>53.65</td>\n",
       "      <td>10411</td>\n",
       "    </tr>\n",
       "    <tr>\n",
       "      <th>2125</th>\n",
       "      <td>2017.01.09</td>\n",
       "      <td>00:00</td>\n",
       "      <td>53.76</td>\n",
       "      <td>53.81</td>\n",
       "      <td>51.75</td>\n",
       "      <td>51.77</td>\n",
       "      <td>8520</td>\n",
       "    </tr>\n",
       "  </tbody>\n",
       "</table>\n",
       "</div>"
      ],
      "text/plain": [
       "            Date   Time   Open   High    Low  Close  Volume\n",
       "2121  2017.01.03  00:00  54.12  55.22  52.11  52.47   13897\n",
       "2122  2017.01.04  00:00  52.50  53.37  52.14  53.34   11522\n",
       "2123  2017.01.05  00:00  53.37  54.10  52.79  53.75   10866\n",
       "2124  2017.01.06  00:00  53.73  54.30  53.31  53.65   10411\n",
       "2125  2017.01.09  00:00  53.76  53.81  51.75  51.77    8520"
      ]
     },
     "execution_count": 11,
     "metadata": {},
     "output_type": "execute_result"
    }
   ],
   "source": [
    "Data_CL.drop(Data_CL.index[range(2121)], inplace = True)\n",
    "Data_CL.head()"
   ]
  },
  {
   "cell_type": "code",
   "execution_count": 12,
   "metadata": {},
   "outputs": [
    {
     "data": {
      "text/html": [
       "<div>\n",
       "<style scoped>\n",
       "    .dataframe tbody tr th:only-of-type {\n",
       "        vertical-align: middle;\n",
       "    }\n",
       "\n",
       "    .dataframe tbody tr th {\n",
       "        vertical-align: top;\n",
       "    }\n",
       "\n",
       "    .dataframe thead th {\n",
       "        text-align: right;\n",
       "    }\n",
       "</style>\n",
       "<table border=\"1\" class=\"dataframe\">\n",
       "  <thead>\n",
       "    <tr style=\"text-align: right;\">\n",
       "      <th></th>\n",
       "      <th>Date</th>\n",
       "      <th>Time</th>\n",
       "      <th>Open</th>\n",
       "      <th>High</th>\n",
       "      <th>Low</th>\n",
       "      <th>Close</th>\n",
       "      <th>Volume</th>\n",
       "    </tr>\n",
       "  </thead>\n",
       "  <tbody>\n",
       "    <tr>\n",
       "      <th>0</th>\n",
       "      <td>2017.01.03</td>\n",
       "      <td>00:00</td>\n",
       "      <td>54.12</td>\n",
       "      <td>55.22</td>\n",
       "      <td>52.11</td>\n",
       "      <td>52.47</td>\n",
       "      <td>13897</td>\n",
       "    </tr>\n",
       "    <tr>\n",
       "      <th>1</th>\n",
       "      <td>2017.01.04</td>\n",
       "      <td>00:00</td>\n",
       "      <td>52.50</td>\n",
       "      <td>53.37</td>\n",
       "      <td>52.14</td>\n",
       "      <td>53.34</td>\n",
       "      <td>11522</td>\n",
       "    </tr>\n",
       "    <tr>\n",
       "      <th>2</th>\n",
       "      <td>2017.01.05</td>\n",
       "      <td>00:00</td>\n",
       "      <td>53.37</td>\n",
       "      <td>54.10</td>\n",
       "      <td>52.79</td>\n",
       "      <td>53.75</td>\n",
       "      <td>10866</td>\n",
       "    </tr>\n",
       "    <tr>\n",
       "      <th>3</th>\n",
       "      <td>2017.01.06</td>\n",
       "      <td>00:00</td>\n",
       "      <td>53.73</td>\n",
       "      <td>54.30</td>\n",
       "      <td>53.31</td>\n",
       "      <td>53.65</td>\n",
       "      <td>10411</td>\n",
       "    </tr>\n",
       "    <tr>\n",
       "      <th>4</th>\n",
       "      <td>2017.01.09</td>\n",
       "      <td>00:00</td>\n",
       "      <td>53.76</td>\n",
       "      <td>53.81</td>\n",
       "      <td>51.75</td>\n",
       "      <td>51.77</td>\n",
       "      <td>8520</td>\n",
       "    </tr>\n",
       "  </tbody>\n",
       "</table>\n",
       "</div>"
      ],
      "text/plain": [
       "         Date   Time   Open   High    Low  Close  Volume\n",
       "0  2017.01.03  00:00  54.12  55.22  52.11  52.47   13897\n",
       "1  2017.01.04  00:00  52.50  53.37  52.14  53.34   11522\n",
       "2  2017.01.05  00:00  53.37  54.10  52.79  53.75   10866\n",
       "3  2017.01.06  00:00  53.73  54.30  53.31  53.65   10411\n",
       "4  2017.01.09  00:00  53.76  53.81  51.75  51.77    8520"
      ]
     },
     "execution_count": 12,
     "metadata": {},
     "output_type": "execute_result"
    }
   ],
   "source": [
    "Data_CL = Data_CL.reset_index(drop = True)\n",
    "Data_CL.head()"
   ]
  },
  {
   "cell_type": "code",
   "execution_count": 13,
   "metadata": {},
   "outputs": [
    {
     "data": {
      "text/plain": [
       "Date      datetime64[ns]\n",
       "Time              object\n",
       "Open             float64\n",
       "High             float64\n",
       "Low              float64\n",
       "Close            float64\n",
       "Volume             int64\n",
       "dtype: object"
      ]
     },
     "execution_count": 13,
     "metadata": {},
     "output_type": "execute_result"
    }
   ],
   "source": [
    "Data_CL['Date'] = pd.to_datetime(Data_CL['Date'])\n",
    "Data_CL.dtypes"
   ]
  },
  {
   "cell_type": "code",
   "execution_count": 14,
   "metadata": {
    "scrolled": true
   },
   "outputs": [
    {
     "name": "stdout",
     "output_type": "stream",
     "text": [
      "<class 'pandas.core.frame.DataFrame'>\n",
      "RangeIndex: 900 entries, 0 to 899\n",
      "Data columns (total 7 columns):\n",
      "Date      900 non-null datetime64[ns]\n",
      "Time      900 non-null object\n",
      "Open      900 non-null float64\n",
      "High      900 non-null float64\n",
      "Low       900 non-null float64\n",
      "Close     900 non-null float64\n",
      "Volume    900 non-null int64\n",
      "dtypes: datetime64[ns](1), float64(4), int64(1), object(1)\n",
      "memory usage: 49.3+ KB\n"
     ]
    }
   ],
   "source": [
    "Data_CL.info()"
   ]
  },
  {
   "cell_type": "markdown",
   "metadata": {},
   "source": [
    "### We need data about the date and the closing price. We will delete the rest of the data."
   ]
  },
  {
   "cell_type": "code",
   "execution_count": 15,
   "metadata": {},
   "outputs": [
    {
     "data": {
      "text/html": [
       "<div>\n",
       "<style scoped>\n",
       "    .dataframe tbody tr th:only-of-type {\n",
       "        vertical-align: middle;\n",
       "    }\n",
       "\n",
       "    .dataframe tbody tr th {\n",
       "        vertical-align: top;\n",
       "    }\n",
       "\n",
       "    .dataframe thead th {\n",
       "        text-align: right;\n",
       "    }\n",
       "</style>\n",
       "<table border=\"1\" class=\"dataframe\">\n",
       "  <thead>\n",
       "    <tr style=\"text-align: right;\">\n",
       "      <th></th>\n",
       "      <th>Date</th>\n",
       "      <th>Close</th>\n",
       "    </tr>\n",
       "  </thead>\n",
       "  <tbody>\n",
       "    <tr>\n",
       "      <th>0</th>\n",
       "      <td>2017-01-03</td>\n",
       "      <td>1.6821</td>\n",
       "    </tr>\n",
       "    <tr>\n",
       "      <th>1</th>\n",
       "      <td>2017-01-04</td>\n",
       "      <td>1.6866</td>\n",
       "    </tr>\n",
       "    <tr>\n",
       "      <th>2</th>\n",
       "      <td>2017-01-05</td>\n",
       "      <td>1.6956</td>\n",
       "    </tr>\n",
       "    <tr>\n",
       "      <th>3</th>\n",
       "      <td>2017-01-06</td>\n",
       "      <td>1.6958</td>\n",
       "    </tr>\n",
       "    <tr>\n",
       "      <th>4</th>\n",
       "      <td>2017-01-09</td>\n",
       "      <td>1.6337</td>\n",
       "    </tr>\n",
       "  </tbody>\n",
       "</table>\n",
       "</div>"
      ],
      "text/plain": [
       "        Date   Close\n",
       "0 2017-01-03  1.6821\n",
       "1 2017-01-04  1.6866\n",
       "2 2017-01-05  1.6956\n",
       "3 2017-01-06  1.6958\n",
       "4 2017-01-09  1.6337"
      ]
     },
     "execution_count": 15,
     "metadata": {},
     "output_type": "execute_result"
    }
   ],
   "source": [
    "Data_HO.drop(['Time', 'Open', 'High', 'Low', 'Volume'], axis = 1, inplace = True)\n",
    "Data_HO.head()"
   ]
  },
  {
   "cell_type": "markdown",
   "metadata": {},
   "source": [
    "### Let's rename the columns with closing prices so that we can further distinguish them"
   ]
  },
  {
   "cell_type": "code",
   "execution_count": 16,
   "metadata": {},
   "outputs": [
    {
     "data": {
      "text/html": [
       "<div>\n",
       "<style scoped>\n",
       "    .dataframe tbody tr th:only-of-type {\n",
       "        vertical-align: middle;\n",
       "    }\n",
       "\n",
       "    .dataframe tbody tr th {\n",
       "        vertical-align: top;\n",
       "    }\n",
       "\n",
       "    .dataframe thead th {\n",
       "        text-align: right;\n",
       "    }\n",
       "</style>\n",
       "<table border=\"1\" class=\"dataframe\">\n",
       "  <thead>\n",
       "    <tr style=\"text-align: right;\">\n",
       "      <th></th>\n",
       "      <th>Date</th>\n",
       "      <th>Close_HO</th>\n",
       "    </tr>\n",
       "  </thead>\n",
       "  <tbody>\n",
       "    <tr>\n",
       "      <th>0</th>\n",
       "      <td>2017-01-03</td>\n",
       "      <td>1.6821</td>\n",
       "    </tr>\n",
       "    <tr>\n",
       "      <th>1</th>\n",
       "      <td>2017-01-04</td>\n",
       "      <td>1.6866</td>\n",
       "    </tr>\n",
       "    <tr>\n",
       "      <th>2</th>\n",
       "      <td>2017-01-05</td>\n",
       "      <td>1.6956</td>\n",
       "    </tr>\n",
       "    <tr>\n",
       "      <th>3</th>\n",
       "      <td>2017-01-06</td>\n",
       "      <td>1.6958</td>\n",
       "    </tr>\n",
       "    <tr>\n",
       "      <th>4</th>\n",
       "      <td>2017-01-09</td>\n",
       "      <td>1.6337</td>\n",
       "    </tr>\n",
       "  </tbody>\n",
       "</table>\n",
       "</div>"
      ],
      "text/plain": [
       "        Date  Close_HO\n",
       "0 2017-01-03    1.6821\n",
       "1 2017-01-04    1.6866\n",
       "2 2017-01-05    1.6956\n",
       "3 2017-01-06    1.6958\n",
       "4 2017-01-09    1.6337"
      ]
     },
     "execution_count": 16,
     "metadata": {},
     "output_type": "execute_result"
    }
   ],
   "source": [
    "Data_HO.rename(columns = {'Close': 'Close_HO'}, inplace = True)\n",
    "Data_HO.head()"
   ]
  },
  {
   "cell_type": "code",
   "execution_count": 17,
   "metadata": {},
   "outputs": [
    {
     "data": {
      "text/html": [
       "<div>\n",
       "<style scoped>\n",
       "    .dataframe tbody tr th:only-of-type {\n",
       "        vertical-align: middle;\n",
       "    }\n",
       "\n",
       "    .dataframe tbody tr th {\n",
       "        vertical-align: top;\n",
       "    }\n",
       "\n",
       "    .dataframe thead th {\n",
       "        text-align: right;\n",
       "    }\n",
       "</style>\n",
       "<table border=\"1\" class=\"dataframe\">\n",
       "  <thead>\n",
       "    <tr style=\"text-align: right;\">\n",
       "      <th></th>\n",
       "      <th>Date</th>\n",
       "      <th>Close_CL</th>\n",
       "    </tr>\n",
       "  </thead>\n",
       "  <tbody>\n",
       "    <tr>\n",
       "      <th>0</th>\n",
       "      <td>2017-01-03</td>\n",
       "      <td>52.47</td>\n",
       "    </tr>\n",
       "    <tr>\n",
       "      <th>1</th>\n",
       "      <td>2017-01-04</td>\n",
       "      <td>53.34</td>\n",
       "    </tr>\n",
       "    <tr>\n",
       "      <th>2</th>\n",
       "      <td>2017-01-05</td>\n",
       "      <td>53.75</td>\n",
       "    </tr>\n",
       "    <tr>\n",
       "      <th>3</th>\n",
       "      <td>2017-01-06</td>\n",
       "      <td>53.65</td>\n",
       "    </tr>\n",
       "    <tr>\n",
       "      <th>4</th>\n",
       "      <td>2017-01-09</td>\n",
       "      <td>51.77</td>\n",
       "    </tr>\n",
       "  </tbody>\n",
       "</table>\n",
       "</div>"
      ],
      "text/plain": [
       "        Date  Close_CL\n",
       "0 2017-01-03     52.47\n",
       "1 2017-01-04     53.34\n",
       "2 2017-01-05     53.75\n",
       "3 2017-01-06     53.65\n",
       "4 2017-01-09     51.77"
      ]
     },
     "execution_count": 17,
     "metadata": {},
     "output_type": "execute_result"
    }
   ],
   "source": [
    "Data_CL.drop(['Time', 'Open', 'High', 'Low', 'Volume'], axis = 1, inplace = True)\n",
    "Data_CL.rename(columns = {'Close': 'Close_CL'}, inplace = True)\n",
    "Data_CL.head()"
   ]
  },
  {
   "cell_type": "markdown",
   "metadata": {},
   "source": [
    "### Some dates and closing prices may be missing in the data of one of the instruments. Therefore, it is necessary to align the data of both instruments by dates so that they match exactly."
   ]
  },
  {
   "cell_type": "code",
   "execution_count": 18,
   "metadata": {
    "scrolled": false
   },
   "outputs": [
    {
     "name": "stdout",
     "output_type": "stream",
     "text": [
      "          Date  Close_HO\n",
      "894 2020-06-22    1.2282\n",
      "895 2020-06-23    1.2109\n",
      "896 2020-06-24    1.1634\n",
      "897 2020-06-25    1.1738\n",
      "898 2020-06-26    1.1768\n",
      "          Date  Close_CL\n",
      "894 2020-06-22     40.56\n",
      "895 2020-06-23     39.98\n",
      "896 2020-06-24     38.06\n",
      "897 2020-06-25     39.01\n",
      "898 2020-06-26     39.00\n"
     ]
    }
   ],
   "source": [
    "i = 0\n",
    "while i < len(Data_HO['Date']):\n",
    "    if Data_HO['Date'][i] != Data_CL['Date'][i]:\n",
    "        if Data_HO['Date'][i] < Data_CL['Date'][i]:\n",
    "            Data_HO.drop([i], inplace = True)\n",
    "            Data_HO = Data_HO.reset_index(drop=True)\n",
    "            #i = i + 1\n",
    "        else: \n",
    "            Data_CL.drop([i], inplace = True)\n",
    "            Data_CL = Data_CL.reset_index(drop=True)\n",
    "            #i = i + 1\n",
    "    else: i = i + 1\n",
    "        \n",
    "print(Data_HO.tail())\n",
    "print(Data_CL.tail())"
   ]
  },
  {
   "cell_type": "markdown",
   "metadata": {},
   "source": [
    "### Find the correlation coefficient (Pearson) for Oil and Fuel oil"
   ]
  },
  {
   "cell_type": "code",
   "execution_count": 19,
   "metadata": {},
   "outputs": [
    {
     "data": {
      "text/plain": [
       "(0.9564696488468384, 0.0)"
      ]
     },
     "execution_count": 19,
     "metadata": {},
     "output_type": "execute_result"
    }
   ],
   "source": [
    "from scipy import stats\n",
    "stats.pearsonr(Data_HO['Close_HO'], Data_CL['Close_CL'])\n",
    "#np.corrcoef(Data_HO['Close_HO'], Data_CL['Close_CL'])"
   ]
  },
  {
   "cell_type": "markdown",
   "metadata": {},
   "source": [
    "#### As we can see, the coefficient is 0.956 - quite high. The relationship between these instruments is quite close."
   ]
  },
  {
   "cell_type": "markdown",
   "metadata": {},
   "source": [
    "### Let's put the closing prices of oil and fuel oil in one dataframe"
   ]
  },
  {
   "cell_type": "code",
   "execution_count": 20,
   "metadata": {},
   "outputs": [
    {
     "data": {
      "text/html": [
       "<div>\n",
       "<style scoped>\n",
       "    .dataframe tbody tr th:only-of-type {\n",
       "        vertical-align: middle;\n",
       "    }\n",
       "\n",
       "    .dataframe tbody tr th {\n",
       "        vertical-align: top;\n",
       "    }\n",
       "\n",
       "    .dataframe thead th {\n",
       "        text-align: right;\n",
       "    }\n",
       "</style>\n",
       "<table border=\"1\" class=\"dataframe\">\n",
       "  <thead>\n",
       "    <tr style=\"text-align: right;\">\n",
       "      <th></th>\n",
       "      <th>Date</th>\n",
       "      <th>Close_HO</th>\n",
       "      <th>Close_CL</th>\n",
       "    </tr>\n",
       "  </thead>\n",
       "  <tbody>\n",
       "    <tr>\n",
       "      <th>0</th>\n",
       "      <td>2017-01-03</td>\n",
       "      <td>1.6821</td>\n",
       "      <td>52.47</td>\n",
       "    </tr>\n",
       "    <tr>\n",
       "      <th>1</th>\n",
       "      <td>2017-01-04</td>\n",
       "      <td>1.6866</td>\n",
       "      <td>53.34</td>\n",
       "    </tr>\n",
       "    <tr>\n",
       "      <th>2</th>\n",
       "      <td>2017-01-05</td>\n",
       "      <td>1.6956</td>\n",
       "      <td>53.75</td>\n",
       "    </tr>\n",
       "    <tr>\n",
       "      <th>3</th>\n",
       "      <td>2017-01-06</td>\n",
       "      <td>1.6958</td>\n",
       "      <td>53.65</td>\n",
       "    </tr>\n",
       "    <tr>\n",
       "      <th>4</th>\n",
       "      <td>2017-01-09</td>\n",
       "      <td>1.6337</td>\n",
       "      <td>51.77</td>\n",
       "    </tr>\n",
       "  </tbody>\n",
       "</table>\n",
       "</div>"
      ],
      "text/plain": [
       "        Date  Close_HO  Close_CL\n",
       "0 2017-01-03    1.6821     52.47\n",
       "1 2017-01-04    1.6866     53.34\n",
       "2 2017-01-05    1.6956     53.75\n",
       "3 2017-01-06    1.6958     53.65\n",
       "4 2017-01-09    1.6337     51.77"
      ]
     },
     "execution_count": 20,
     "metadata": {},
     "output_type": "execute_result"
    }
   ],
   "source": [
    "Data_HO['Close_CL'] = Data_CL['Close_CL']\n",
    "Data_HO.head()"
   ]
  },
  {
   "cell_type": "code",
   "execution_count": 21,
   "metadata": {
    "scrolled": true
   },
   "outputs": [
    {
     "data": {
      "text/html": [
       "<div>\n",
       "<style scoped>\n",
       "    .dataframe tbody tr th:only-of-type {\n",
       "        vertical-align: middle;\n",
       "    }\n",
       "\n",
       "    .dataframe tbody tr th {\n",
       "        vertical-align: top;\n",
       "    }\n",
       "\n",
       "    .dataframe thead th {\n",
       "        text-align: right;\n",
       "    }\n",
       "</style>\n",
       "<table border=\"1\" class=\"dataframe\">\n",
       "  <thead>\n",
       "    <tr style=\"text-align: right;\">\n",
       "      <th></th>\n",
       "      <th>Date</th>\n",
       "      <th>Close_HO</th>\n",
       "      <th>Close_CL</th>\n",
       "    </tr>\n",
       "  </thead>\n",
       "  <tbody>\n",
       "    <tr>\n",
       "      <th>894</th>\n",
       "      <td>2020-06-22</td>\n",
       "      <td>1.2282</td>\n",
       "      <td>40.56</td>\n",
       "    </tr>\n",
       "    <tr>\n",
       "      <th>895</th>\n",
       "      <td>2020-06-23</td>\n",
       "      <td>1.2109</td>\n",
       "      <td>39.98</td>\n",
       "    </tr>\n",
       "    <tr>\n",
       "      <th>896</th>\n",
       "      <td>2020-06-24</td>\n",
       "      <td>1.1634</td>\n",
       "      <td>38.06</td>\n",
       "    </tr>\n",
       "    <tr>\n",
       "      <th>897</th>\n",
       "      <td>2020-06-25</td>\n",
       "      <td>1.1738</td>\n",
       "      <td>39.01</td>\n",
       "    </tr>\n",
       "    <tr>\n",
       "      <th>898</th>\n",
       "      <td>2020-06-26</td>\n",
       "      <td>1.1768</td>\n",
       "      <td>39.00</td>\n",
       "    </tr>\n",
       "  </tbody>\n",
       "</table>\n",
       "</div>"
      ],
      "text/plain": [
       "          Date  Close_HO  Close_CL\n",
       "894 2020-06-22    1.2282     40.56\n",
       "895 2020-06-23    1.2109     39.98\n",
       "896 2020-06-24    1.1634     38.06\n",
       "897 2020-06-25    1.1738     39.01\n",
       "898 2020-06-26    1.1768     39.00"
      ]
     },
     "execution_count": 21,
     "metadata": {},
     "output_type": "execute_result"
    }
   ],
   "source": [
    "Data_HO.tail()"
   ]
  },
  {
   "cell_type": "markdown",
   "metadata": {},
   "source": [
    "### Change the name of the dataframe"
   ]
  },
  {
   "cell_type": "code",
   "execution_count": 22,
   "metadata": {},
   "outputs": [
    {
     "data": {
      "text/html": [
       "<div>\n",
       "<style scoped>\n",
       "    .dataframe tbody tr th:only-of-type {\n",
       "        vertical-align: middle;\n",
       "    }\n",
       "\n",
       "    .dataframe tbody tr th {\n",
       "        vertical-align: top;\n",
       "    }\n",
       "\n",
       "    .dataframe thead th {\n",
       "        text-align: right;\n",
       "    }\n",
       "</style>\n",
       "<table border=\"1\" class=\"dataframe\">\n",
       "  <thead>\n",
       "    <tr style=\"text-align: right;\">\n",
       "      <th></th>\n",
       "      <th>Date</th>\n",
       "      <th>Close_HO</th>\n",
       "      <th>Close_CL</th>\n",
       "    </tr>\n",
       "  </thead>\n",
       "  <tbody>\n",
       "    <tr>\n",
       "      <th>894</th>\n",
       "      <td>2020-06-22</td>\n",
       "      <td>1.2282</td>\n",
       "      <td>40.56</td>\n",
       "    </tr>\n",
       "    <tr>\n",
       "      <th>895</th>\n",
       "      <td>2020-06-23</td>\n",
       "      <td>1.2109</td>\n",
       "      <td>39.98</td>\n",
       "    </tr>\n",
       "    <tr>\n",
       "      <th>896</th>\n",
       "      <td>2020-06-24</td>\n",
       "      <td>1.1634</td>\n",
       "      <td>38.06</td>\n",
       "    </tr>\n",
       "    <tr>\n",
       "      <th>897</th>\n",
       "      <td>2020-06-25</td>\n",
       "      <td>1.1738</td>\n",
       "      <td>39.01</td>\n",
       "    </tr>\n",
       "    <tr>\n",
       "      <th>898</th>\n",
       "      <td>2020-06-26</td>\n",
       "      <td>1.1768</td>\n",
       "      <td>39.00</td>\n",
       "    </tr>\n",
       "  </tbody>\n",
       "</table>\n",
       "</div>"
      ],
      "text/plain": [
       "          Date  Close_HO  Close_CL\n",
       "894 2020-06-22    1.2282     40.56\n",
       "895 2020-06-23    1.2109     39.98\n",
       "896 2020-06-24    1.1634     38.06\n",
       "897 2020-06-25    1.1738     39.01\n",
       "898 2020-06-26    1.1768     39.00"
      ]
     },
     "execution_count": 22,
     "metadata": {},
     "output_type": "execute_result"
    }
   ],
   "source": [
    "Data_Spread = Data_HO\n",
    "Data_Spread.tail()"
   ]
  },
  {
   "cell_type": "markdown",
   "metadata": {},
   "source": [
    "### Let's build charts for closing prices"
   ]
  },
  {
   "cell_type": "code",
   "execution_count": 69,
   "metadata": {
    "scrolled": true
   },
   "outputs": [
    {
     "data": {
      "image/png": "[encoded data removed]",
      "text/plain": [
       "<Figure size 432x288 with 1 Axes>"
      ]
     },
     "metadata": {
      "needs_background": "light"
     },
     "output_type": "display_data"
    }
   ],
   "source": [
    "import matplotlib.pyplot as plt\n",
    "%matplotlib inline\n",
    "x = Data_Spread['Date']\n",
    "y = Data_Spread['Close_HO']\n",
    "plt.plot(x, y)\n",
    "plt.title('HO (Fuel oil)');\n",
    "plt.xlabel('Date');\n",
    "plt.ylabel('Price');"
   ]
  },
  {
   "cell_type": "code",
   "execution_count": 70,
   "metadata": {
    "scrolled": true
   },
   "outputs": [
    {
     "data": {
      "image/png": "[encoded data removed]",
      "text/plain": [
       "<Figure size 432x288 with 1 Axes>"
      ]
     },
     "metadata": {
      "needs_background": "light"
     },
     "output_type": "display_data"
    }
   ],
   "source": [
    "x = Data_Spread['Date']\n",
    "y = Data_Spread['Close_CL']\n",
    "plt.plot(x, y)\n",
    "plt.title('CL (Oil)');\n",
    "plt.xlabel('Date');\n",
    "plt.ylabel('Price');"
   ]
  },
  {
   "cell_type": "markdown",
   "metadata": {},
   "source": [
    "### Let's use a linear regression equation to get the coefficient we want. Let's express Oil through Fuel oil."
   ]
  },
  {
   "cell_type": "code",
   "execution_count": 25,
   "metadata": {},
   "outputs": [
    {
     "name": "stdout",
     "output_type": "stream",
     "text": [
      "Coefficients:  [[31.73915174]]\n"
     ]
    }
   ],
   "source": [
    "from sklearn import linear_model\n",
    "regr = linear_model.LinearRegression()\n",
    "x = Data_Spread[['Close_HO']]\n",
    "y = Data_Spread[['Close_CL']]\n",
    "regr.fit (x, y)\n",
    "# The coefficients\n",
    "print ('Coefficients: ', regr.coef_)\n"
   ]
  },
  {
   "cell_type": "markdown",
   "metadata": {},
   "source": [
    "### Let's get data for our synthetic instrument"
   ]
  },
  {
   "cell_type": "code",
   "execution_count": 26,
   "metadata": {
    "scrolled": true
   },
   "outputs": [
    {
     "data": {
      "text/html": [
       "<div>\n",
       "<style scoped>\n",
       "    .dataframe tbody tr th:only-of-type {\n",
       "        vertical-align: middle;\n",
       "    }\n",
       "\n",
       "    .dataframe tbody tr th {\n",
       "        vertical-align: top;\n",
       "    }\n",
       "\n",
       "    .dataframe thead th {\n",
       "        text-align: right;\n",
       "    }\n",
       "</style>\n",
       "<table border=\"1\" class=\"dataframe\">\n",
       "  <thead>\n",
       "    <tr style=\"text-align: right;\">\n",
       "      <th></th>\n",
       "      <th>Date</th>\n",
       "      <th>Close_HO</th>\n",
       "      <th>Close_CL</th>\n",
       "      <th>CL-HO</th>\n",
       "    </tr>\n",
       "  </thead>\n",
       "  <tbody>\n",
       "    <tr>\n",
       "      <th>0</th>\n",
       "      <td>2017-01-03</td>\n",
       "      <td>1.6821</td>\n",
       "      <td>52.47</td>\n",
       "      <td>-0.918427</td>\n",
       "    </tr>\n",
       "    <tr>\n",
       "      <th>1</th>\n",
       "      <td>2017-01-04</td>\n",
       "      <td>1.6866</td>\n",
       "      <td>53.34</td>\n",
       "      <td>-0.191253</td>\n",
       "    </tr>\n",
       "    <tr>\n",
       "      <th>2</th>\n",
       "      <td>2017-01-05</td>\n",
       "      <td>1.6956</td>\n",
       "      <td>53.75</td>\n",
       "      <td>-0.066906</td>\n",
       "    </tr>\n",
       "    <tr>\n",
       "      <th>3</th>\n",
       "      <td>2017-01-06</td>\n",
       "      <td>1.6958</td>\n",
       "      <td>53.65</td>\n",
       "      <td>-0.173254</td>\n",
       "    </tr>\n",
       "    <tr>\n",
       "      <th>4</th>\n",
       "      <td>2017-01-09</td>\n",
       "      <td>1.6337</td>\n",
       "      <td>51.77</td>\n",
       "      <td>-0.082252</td>\n",
       "    </tr>\n",
       "  </tbody>\n",
       "</table>\n",
       "</div>"
      ],
      "text/plain": [
       "        Date  Close_HO  Close_CL     CL-HO\n",
       "0 2017-01-03    1.6821     52.47 -0.918427\n",
       "1 2017-01-04    1.6866     53.34 -0.191253\n",
       "2 2017-01-05    1.6956     53.75 -0.066906\n",
       "3 2017-01-06    1.6958     53.65 -0.173254\n",
       "4 2017-01-09    1.6337     51.77 -0.082252"
      ]
     },
     "execution_count": 26,
     "metadata": {},
     "output_type": "execute_result"
    }
   ],
   "source": [
    "Data_Spread['CL-HO'] = Data_Spread['Close_CL'] - regr.coef_[0][0] * Data_Spread['Close_HO']\n",
    "Data_Spread.head()"
   ]
  },
  {
   "cell_type": "code",
   "execution_count": 71,
   "metadata": {},
   "outputs": [
    {
     "data": {
      "image/png": "[encoded data removed]",
      "text/plain": [
       "<Figure size 432x288 with 1 Axes>"
      ]
     },
     "metadata": {
      "needs_background": "light"
     },
     "output_type": "display_data"
    }
   ],
   "source": [
    "x = Data_Spread['Date']\n",
    "y = Data_Spread['CL-HO']\n",
    "plt.plot(x, y)\n",
    "plt.title('CL - 31.739*HO');\n",
    "plt.axhline(y=2.5, color='r', linestyle='--');\n",
    "plt.axhline(y=-9, color='r', linestyle='--');\n",
    "plt.xlabel('Date');\n",
    "plt.ylabel('Price');"
   ]
  },
  {
   "cell_type": "markdown",
   "metadata": {},
   "source": [
    "### Let's check if the given time series is stationary. To do this, we use the Dickey-Fuller test and the p-value"
   ]
  },
  {
   "cell_type": "code",
   "execution_count": 28,
   "metadata": {},
   "outputs": [
    {
     "name": "stdout",
     "output_type": "stream",
     "text": [
      "p-value: 0.016149\n"
     ]
    }
   ],
   "source": [
    "from statsmodels.tsa.stattools import adfuller\n",
    "X = Data_Spread['CL-HO']\n",
    "result = adfuller(X)\n",
    "#print('ADF Statistic: %f' % result[0])\n",
    "print('p-value: %f' % result[1])"
   ]
  },
  {
   "cell_type": "markdown",
   "metadata": {},
   "source": [
    "#### As we can see above, the p-value is less than 0.05 - this means that this time series can be considered stationary (it has the property of returning to the mean value)"
   ]
  },
  {
   "cell_type": "markdown",
   "metadata": {},
   "source": [
    "### Now we need to convert the data on closing prices into data on the cumulative cash yield of each trading instrument. To do this, we will calculate the daily rise / fall in pips and multiply it by the standard pip value for 1 contract."
   ]
  },
  {
   "cell_type": "code",
   "execution_count": 29,
   "metadata": {},
   "outputs": [],
   "source": [
    "n = len(Data_Spread['Date'])\n",
    "HO_tick_value = 4.2\n",
    "CL_tick_value = 10\n",
    "vals_ho = [0] * n\n",
    "vals_cl = [0] * n\n",
    "vals_ho_cum = [0] * n\n",
    "vals_cl_cum = [0] * n\n",
    "for i in range(1, n):    \n",
    "    vals_ho[i] = (Data_Spread['Close_HO'][i] - Data_Spread['Close_HO'][i-1]) * 10000 * HO_tick_value\n",
    "    vals_cl[i] = (Data_Spread['Close_CL'][i] - Data_Spread['Close_CL'][i-1]) * 100 * CL_tick_value\n",
    "    vals_ho_cum[i] = vals_ho_cum[i-1] + vals_ho[i]\n",
    "    vals_cl_cum[i] = vals_cl_cum[i-1] + vals_cl[i]\n"
   ]
  },
  {
   "cell_type": "code",
   "execution_count": 30,
   "metadata": {
    "scrolled": true
   },
   "outputs": [
    {
     "data": {
      "text/html": [
       "<div>\n",
       "<style scoped>\n",
       "    .dataframe tbody tr th:only-of-type {\n",
       "        vertical-align: middle;\n",
       "    }\n",
       "\n",
       "    .dataframe tbody tr th {\n",
       "        vertical-align: top;\n",
       "    }\n",
       "\n",
       "    .dataframe thead th {\n",
       "        text-align: right;\n",
       "    }\n",
       "</style>\n",
       "<table border=\"1\" class=\"dataframe\">\n",
       "  <thead>\n",
       "    <tr style=\"text-align: right;\">\n",
       "      <th></th>\n",
       "      <th>Date</th>\n",
       "      <th>Close_HO</th>\n",
       "      <th>Close_CL</th>\n",
       "      <th>CL-HO</th>\n",
       "      <th>HO_USD</th>\n",
       "      <th>CL_USD</th>\n",
       "      <th>HO_USD_CUM</th>\n",
       "      <th>CL_USD_CUM</th>\n",
       "    </tr>\n",
       "  </thead>\n",
       "  <tbody>\n",
       "    <tr>\n",
       "      <th>0</th>\n",
       "      <td>2017-01-03</td>\n",
       "      <td>1.6821</td>\n",
       "      <td>52.47</td>\n",
       "      <td>-0.918427</td>\n",
       "      <td>0.0</td>\n",
       "      <td>0.0</td>\n",
       "      <td>0.0</td>\n",
       "      <td>0.0</td>\n",
       "    </tr>\n",
       "    <tr>\n",
       "      <th>1</th>\n",
       "      <td>2017-01-04</td>\n",
       "      <td>1.6866</td>\n",
       "      <td>53.34</td>\n",
       "      <td>-0.191253</td>\n",
       "      <td>189.0</td>\n",
       "      <td>870.0</td>\n",
       "      <td>189.0</td>\n",
       "      <td>870.0</td>\n",
       "    </tr>\n",
       "    <tr>\n",
       "      <th>2</th>\n",
       "      <td>2017-01-05</td>\n",
       "      <td>1.6956</td>\n",
       "      <td>53.75</td>\n",
       "      <td>-0.066906</td>\n",
       "      <td>378.0</td>\n",
       "      <td>410.0</td>\n",
       "      <td>567.0</td>\n",
       "      <td>1280.0</td>\n",
       "    </tr>\n",
       "    <tr>\n",
       "      <th>3</th>\n",
       "      <td>2017-01-06</td>\n",
       "      <td>1.6958</td>\n",
       "      <td>53.65</td>\n",
       "      <td>-0.173254</td>\n",
       "      <td>8.4</td>\n",
       "      <td>-100.0</td>\n",
       "      <td>575.4</td>\n",
       "      <td>1180.0</td>\n",
       "    </tr>\n",
       "    <tr>\n",
       "      <th>4</th>\n",
       "      <td>2017-01-09</td>\n",
       "      <td>1.6337</td>\n",
       "      <td>51.77</td>\n",
       "      <td>-0.082252</td>\n",
       "      <td>-2608.2</td>\n",
       "      <td>-1880.0</td>\n",
       "      <td>-2032.8</td>\n",
       "      <td>-700.0</td>\n",
       "    </tr>\n",
       "  </tbody>\n",
       "</table>\n",
       "</div>"
      ],
      "text/plain": [
       "        Date  Close_HO  Close_CL     CL-HO  HO_USD  CL_USD  HO_USD_CUM  \\\n",
       "0 2017-01-03    1.6821     52.47 -0.918427     0.0     0.0         0.0   \n",
       "1 2017-01-04    1.6866     53.34 -0.191253   189.0   870.0       189.0   \n",
       "2 2017-01-05    1.6956     53.75 -0.066906   378.0   410.0       567.0   \n",
       "3 2017-01-06    1.6958     53.65 -0.173254     8.4  -100.0       575.4   \n",
       "4 2017-01-09    1.6337     51.77 -0.082252 -2608.2 -1880.0     -2032.8   \n",
       "\n",
       "   CL_USD_CUM  \n",
       "0         0.0  \n",
       "1       870.0  \n",
       "2      1280.0  \n",
       "3      1180.0  \n",
       "4      -700.0  "
      ]
     },
     "execution_count": 30,
     "metadata": {},
     "output_type": "execute_result"
    }
   ],
   "source": [
    "df = pd.DataFrame({'HO_USD': vals_ho, 'CL_USD': vals_cl, 'HO_USD_CUM': vals_ho_cum, 'CL_USD_CUM': vals_cl_cum})\n",
    "Data_Spread[['HO_USD', 'CL_USD', 'HO_USD_CUM', 'CL_USD_CUM']] = df[['HO_USD', 'CL_USD', 'HO_USD_CUM', 'CL_USD_CUM']]\n",
    "Data_Spread.head()"
   ]
  },
  {
   "cell_type": "markdown",
   "metadata": {},
   "source": [
    "### Let's find the regression coefficient between the data of the cumulative profitability of the instruments and plot the yield spread chart"
   ]
  },
  {
   "cell_type": "code",
   "execution_count": 31,
   "metadata": {},
   "outputs": [
    {
     "name": "stdout",
     "output_type": "stream",
     "text": [
      "Coefficients:  [[0.75569409]]\n"
     ]
    }
   ],
   "source": [
    "x_usd = Data_Spread[['HO_USD_CUM']]\n",
    "y_usd = Data_Spread[['CL_USD_CUM']]\n",
    "regr.fit (x_usd, y_usd)\n",
    "# The coefficients\n",
    "print ('Coefficients: ', regr.coef_)\n"
   ]
  },
  {
   "cell_type": "code",
   "execution_count": 32,
   "metadata": {
    "scrolled": true
   },
   "outputs": [
    {
     "data": {
      "text/html": [
       "<div>\n",
       "<style scoped>\n",
       "    .dataframe tbody tr th:only-of-type {\n",
       "        vertical-align: middle;\n",
       "    }\n",
       "\n",
       "    .dataframe tbody tr th {\n",
       "        vertical-align: top;\n",
       "    }\n",
       "\n",
       "    .dataframe thead th {\n",
       "        text-align: right;\n",
       "    }\n",
       "</style>\n",
       "<table border=\"1\" class=\"dataframe\">\n",
       "  <thead>\n",
       "    <tr style=\"text-align: right;\">\n",
       "      <th></th>\n",
       "      <th>Date</th>\n",
       "      <th>Close_HO</th>\n",
       "      <th>Close_CL</th>\n",
       "      <th>CL-HO</th>\n",
       "      <th>HO_USD</th>\n",
       "      <th>CL_USD</th>\n",
       "      <th>HO_USD_CUM</th>\n",
       "      <th>CL_USD_CUM</th>\n",
       "      <th>CL-HO_USD</th>\n",
       "    </tr>\n",
       "  </thead>\n",
       "  <tbody>\n",
       "    <tr>\n",
       "      <th>0</th>\n",
       "      <td>2017-01-03</td>\n",
       "      <td>1.6821</td>\n",
       "      <td>52.47</td>\n",
       "      <td>-0.918427</td>\n",
       "      <td>0.0</td>\n",
       "      <td>0.0</td>\n",
       "      <td>0.0</td>\n",
       "      <td>0.0</td>\n",
       "      <td>0.000000</td>\n",
       "    </tr>\n",
       "    <tr>\n",
       "      <th>1</th>\n",
       "      <td>2017-01-04</td>\n",
       "      <td>1.6866</td>\n",
       "      <td>53.34</td>\n",
       "      <td>-0.191253</td>\n",
       "      <td>189.0</td>\n",
       "      <td>870.0</td>\n",
       "      <td>189.0</td>\n",
       "      <td>870.0</td>\n",
       "      <td>727.173817</td>\n",
       "    </tr>\n",
       "    <tr>\n",
       "      <th>2</th>\n",
       "      <td>2017-01-05</td>\n",
       "      <td>1.6956</td>\n",
       "      <td>53.75</td>\n",
       "      <td>-0.066906</td>\n",
       "      <td>378.0</td>\n",
       "      <td>410.0</td>\n",
       "      <td>567.0</td>\n",
       "      <td>1280.0</td>\n",
       "      <td>851.521452</td>\n",
       "    </tr>\n",
       "    <tr>\n",
       "      <th>3</th>\n",
       "      <td>2017-01-06</td>\n",
       "      <td>1.6958</td>\n",
       "      <td>53.65</td>\n",
       "      <td>-0.173254</td>\n",
       "      <td>8.4</td>\n",
       "      <td>-100.0</td>\n",
       "      <td>575.4</td>\n",
       "      <td>1180.0</td>\n",
       "      <td>745.173621</td>\n",
       "    </tr>\n",
       "    <tr>\n",
       "      <th>4</th>\n",
       "      <td>2017-01-09</td>\n",
       "      <td>1.6337</td>\n",
       "      <td>51.77</td>\n",
       "      <td>-0.082252</td>\n",
       "      <td>-2608.2</td>\n",
       "      <td>-1880.0</td>\n",
       "      <td>-2032.8</td>\n",
       "      <td>-700.0</td>\n",
       "      <td>836.174944</td>\n",
       "    </tr>\n",
       "  </tbody>\n",
       "</table>\n",
       "</div>"
      ],
      "text/plain": [
       "        Date  Close_HO  Close_CL     CL-HO  HO_USD  CL_USD  HO_USD_CUM  \\\n",
       "0 2017-01-03    1.6821     52.47 -0.918427     0.0     0.0         0.0   \n",
       "1 2017-01-04    1.6866     53.34 -0.191253   189.0   870.0       189.0   \n",
       "2 2017-01-05    1.6956     53.75 -0.066906   378.0   410.0       567.0   \n",
       "3 2017-01-06    1.6958     53.65 -0.173254     8.4  -100.0       575.4   \n",
       "4 2017-01-09    1.6337     51.77 -0.082252 -2608.2 -1880.0     -2032.8   \n",
       "\n",
       "   CL_USD_CUM   CL-HO_USD  \n",
       "0         0.0    0.000000  \n",
       "1       870.0  727.173817  \n",
       "2      1280.0  851.521452  \n",
       "3      1180.0  745.173621  \n",
       "4      -700.0  836.174944  "
      ]
     },
     "execution_count": 32,
     "metadata": {},
     "output_type": "execute_result"
    }
   ],
   "source": [
    "Data_Spread['CL-HO_USD'] = Data_Spread['CL_USD_CUM'] - regr.coef_[0][0] * Data_Spread['HO_USD_CUM']\n",
    "Data_Spread.head()"
   ]
  },
  {
   "cell_type": "code",
   "execution_count": 76,
   "metadata": {},
   "outputs": [
    {
     "data": {
      "image/png": "[encoded data removed]",
      "text/plain": [
       "<Figure size 432x288 with 1 Axes>"
      ]
     },
     "metadata": {
      "needs_background": "light"
     },
     "output_type": "display_data"
    }
   ],
   "source": [
    "x = Data_Spread['Date']\n",
    "y = Data_Spread['CL-HO_USD']\n",
    "plt.plot(x, y)\n",
    "plt.title('CL(USD) - 0.75*HO(USD)');\n",
    "plt.axhline(y=3000, color='r', linestyle='--');\n",
    "plt.axhline(y=-8500, color='r', linestyle='--');\n",
    "plt.xlabel('Date');\n",
    "plt.ylabel('$');"
   ]
  },
  {
   "cell_type": "markdown",
   "metadata": {},
   "source": [
    "#### As we can see, the coefficient is 0.75. This means that in order to obtain a stationary time series based on the difference in the cumulative yields of our instruments, it is necessary to multiply the cost of a pip for Fuel oil by 0.75. That is, the ratio of the value of points should be 10 to 0.75x4.2, which equals 3.17. This ratio is fulfilled when trading 4 oil contracts and 3 fuel oil contracts simultaneously (4x10 / 3x4.2 = 3.17). In other words: when the spread chart (CL - 31.739xHO) approaches the upper border of the fluctuation range (2.5) you need to sell 4 Oil contracts and buy 3 Fuel oil contracts. Near the lower border (-9.0), do the opposite - buy 4 Oil contracts and sell 3 Fuel oil contracts. In the middle of the range, trades are closed with a total profit."
   ]
  },
  {
   "cell_type": "markdown",
   "metadata": {},
   "source": [
    "### Let's load the Brent crude oil data and see what the spread between Brent crude and fuel oil is. Prepare and align data for the same period of time - from the beginning of 2017"
   ]
  },
  {
   "cell_type": "code",
   "execution_count": 34,
   "metadata": {},
   "outputs": [
    {
     "data": {
      "text/html": [
       "<div>\n",
       "<style scoped>\n",
       "    .dataframe tbody tr th:only-of-type {\n",
       "        vertical-align: middle;\n",
       "    }\n",
       "\n",
       "    .dataframe tbody tr th {\n",
       "        vertical-align: top;\n",
       "    }\n",
       "\n",
       "    .dataframe thead th {\n",
       "        text-align: right;\n",
       "    }\n",
       "</style>\n",
       "<table border=\"1\" class=\"dataframe\">\n",
       "  <thead>\n",
       "    <tr style=\"text-align: right;\">\n",
       "      <th></th>\n",
       "      <th>Date</th>\n",
       "      <th>Time</th>\n",
       "      <th>Open</th>\n",
       "      <th>High</th>\n",
       "      <th>Low</th>\n",
       "      <th>Close</th>\n",
       "      <th>Volume</th>\n",
       "    </tr>\n",
       "  </thead>\n",
       "  <tbody>\n",
       "    <tr>\n",
       "      <th>0</th>\n",
       "      <td>2008.12.17</td>\n",
       "      <td>00:00</td>\n",
       "      <td>47.78</td>\n",
       "      <td>48.90</td>\n",
       "      <td>45.29</td>\n",
       "      <td>45.35</td>\n",
       "      <td>480</td>\n",
       "    </tr>\n",
       "    <tr>\n",
       "      <th>1</th>\n",
       "      <td>2008.12.18</td>\n",
       "      <td>00:00</td>\n",
       "      <td>45.35</td>\n",
       "      <td>46.67</td>\n",
       "      <td>43.20</td>\n",
       "      <td>43.42</td>\n",
       "      <td>502</td>\n",
       "    </tr>\n",
       "    <tr>\n",
       "      <th>2</th>\n",
       "      <td>2008.12.19</td>\n",
       "      <td>00:00</td>\n",
       "      <td>43.42</td>\n",
       "      <td>45.14</td>\n",
       "      <td>43.03</td>\n",
       "      <td>44.64</td>\n",
       "      <td>301</td>\n",
       "    </tr>\n",
       "    <tr>\n",
       "      <th>3</th>\n",
       "      <td>2008.12.22</td>\n",
       "      <td>00:00</td>\n",
       "      <td>44.64</td>\n",
       "      <td>44.77</td>\n",
       "      <td>41.03</td>\n",
       "      <td>41.04</td>\n",
       "      <td>389</td>\n",
       "    </tr>\n",
       "    <tr>\n",
       "      <th>4</th>\n",
       "      <td>2008.12.23</td>\n",
       "      <td>00:00</td>\n",
       "      <td>41.04</td>\n",
       "      <td>42.02</td>\n",
       "      <td>39.20</td>\n",
       "      <td>40.60</td>\n",
       "      <td>521</td>\n",
       "    </tr>\n",
       "  </tbody>\n",
       "</table>\n",
       "</div>"
      ],
      "text/plain": [
       "         Date   Time   Open   High    Low  Close  Volume\n",
       "0  2008.12.17  00:00  47.78  48.90  45.29  45.35     480\n",
       "1  2008.12.18  00:00  45.35  46.67  43.20  43.42     502\n",
       "2  2008.12.19  00:00  43.42  45.14  43.03  44.64     301\n",
       "3  2008.12.22  00:00  44.64  44.77  41.03  41.04     389\n",
       "4  2008.12.23  00:00  41.04  42.02  39.20  40.60     521"
      ]
     },
     "execution_count": 34,
     "metadata": {},
     "output_type": "execute_result"
    }
   ],
   "source": [
    "Data_BRN = pd.read_csv('https://raw.githubusercontent.com/gelono/github-first/master/BRN1440.csv', header = None, names = column_names)\n",
    "Data_BRN.head()                     "
   ]
  },
  {
   "cell_type": "code",
   "execution_count": 35,
   "metadata": {},
   "outputs": [
    {
     "data": {
      "text/html": [
       "<div>\n",
       "<style scoped>\n",
       "    .dataframe tbody tr th:only-of-type {\n",
       "        vertical-align: middle;\n",
       "    }\n",
       "\n",
       "    .dataframe tbody tr th {\n",
       "        vertical-align: top;\n",
       "    }\n",
       "\n",
       "    .dataframe thead th {\n",
       "        text-align: right;\n",
       "    }\n",
       "</style>\n",
       "<table border=\"1\" class=\"dataframe\">\n",
       "  <thead>\n",
       "    <tr style=\"text-align: right;\">\n",
       "      <th></th>\n",
       "      <th>Date</th>\n",
       "      <th>Close</th>\n",
       "    </tr>\n",
       "  </thead>\n",
       "  <tbody>\n",
       "    <tr>\n",
       "      <th>0</th>\n",
       "      <td>2008-12-17</td>\n",
       "      <td>45.35</td>\n",
       "    </tr>\n",
       "    <tr>\n",
       "      <th>1</th>\n",
       "      <td>2008-12-18</td>\n",
       "      <td>43.42</td>\n",
       "    </tr>\n",
       "    <tr>\n",
       "      <th>2</th>\n",
       "      <td>2008-12-19</td>\n",
       "      <td>44.64</td>\n",
       "    </tr>\n",
       "    <tr>\n",
       "      <th>3</th>\n",
       "      <td>2008-12-22</td>\n",
       "      <td>41.04</td>\n",
       "    </tr>\n",
       "    <tr>\n",
       "      <th>4</th>\n",
       "      <td>2008-12-23</td>\n",
       "      <td>40.60</td>\n",
       "    </tr>\n",
       "  </tbody>\n",
       "</table>\n",
       "</div>"
      ],
      "text/plain": [
       "        Date  Close\n",
       "0 2008-12-17  45.35\n",
       "1 2008-12-18  43.42\n",
       "2 2008-12-19  44.64\n",
       "3 2008-12-22  41.04\n",
       "4 2008-12-23  40.60"
      ]
     },
     "execution_count": 35,
     "metadata": {},
     "output_type": "execute_result"
    }
   ],
   "source": [
    "Data_BRN['Date'] = pd.to_datetime(Data_BRN['Date'])\n",
    "Data_BRN.drop(['Time', 'Open', 'High', 'Low', 'Volume'], axis = 1, inplace = True)\n",
    "Data_BRN.head()"
   ]
  },
  {
   "cell_type": "code",
   "execution_count": 36,
   "metadata": {},
   "outputs": [
    {
     "name": "stdout",
     "output_type": "stream",
     "text": [
      "(array([2081], dtype=int64),)\n"
     ]
    }
   ],
   "source": [
    "print(np.where(Data_BRN['Date'] == '2017-01-03'))"
   ]
  },
  {
   "cell_type": "code",
   "execution_count": 37,
   "metadata": {
    "scrolled": true
   },
   "outputs": [
    {
     "data": {
      "text/html": [
       "<div>\n",
       "<style scoped>\n",
       "    .dataframe tbody tr th:only-of-type {\n",
       "        vertical-align: middle;\n",
       "    }\n",
       "\n",
       "    .dataframe tbody tr th {\n",
       "        vertical-align: top;\n",
       "    }\n",
       "\n",
       "    .dataframe thead th {\n",
       "        text-align: right;\n",
       "    }\n",
       "</style>\n",
       "<table border=\"1\" class=\"dataframe\">\n",
       "  <thead>\n",
       "    <tr style=\"text-align: right;\">\n",
       "      <th></th>\n",
       "      <th>Date</th>\n",
       "      <th>Close</th>\n",
       "    </tr>\n",
       "  </thead>\n",
       "  <tbody>\n",
       "    <tr>\n",
       "      <th>2081</th>\n",
       "      <td>2017-01-03</td>\n",
       "      <td>55.62</td>\n",
       "    </tr>\n",
       "    <tr>\n",
       "      <th>2082</th>\n",
       "      <td>2017-01-04</td>\n",
       "      <td>56.45</td>\n",
       "    </tr>\n",
       "    <tr>\n",
       "      <th>2083</th>\n",
       "      <td>2017-01-05</td>\n",
       "      <td>56.88</td>\n",
       "    </tr>\n",
       "    <tr>\n",
       "      <th>2084</th>\n",
       "      <td>2017-01-06</td>\n",
       "      <td>56.81</td>\n",
       "    </tr>\n",
       "    <tr>\n",
       "      <th>2085</th>\n",
       "      <td>2017-01-09</td>\n",
       "      <td>54.73</td>\n",
       "    </tr>\n",
       "  </tbody>\n",
       "</table>\n",
       "</div>"
      ],
      "text/plain": [
       "           Date  Close\n",
       "2081 2017-01-03  55.62\n",
       "2082 2017-01-04  56.45\n",
       "2083 2017-01-05  56.88\n",
       "2084 2017-01-06  56.81\n",
       "2085 2017-01-09  54.73"
      ]
     },
     "execution_count": 37,
     "metadata": {},
     "output_type": "execute_result"
    }
   ],
   "source": [
    "Data_BRN.drop(Data_BRN.index[range(2081)], inplace = True)\n",
    "Data_BRN.head()"
   ]
  },
  {
   "cell_type": "code",
   "execution_count": 38,
   "metadata": {},
   "outputs": [
    {
     "data": {
      "text/html": [
       "<div>\n",
       "<style scoped>\n",
       "    .dataframe tbody tr th:only-of-type {\n",
       "        vertical-align: middle;\n",
       "    }\n",
       "\n",
       "    .dataframe tbody tr th {\n",
       "        vertical-align: top;\n",
       "    }\n",
       "\n",
       "    .dataframe thead th {\n",
       "        text-align: right;\n",
       "    }\n",
       "</style>\n",
       "<table border=\"1\" class=\"dataframe\">\n",
       "  <thead>\n",
       "    <tr style=\"text-align: right;\">\n",
       "      <th></th>\n",
       "      <th>Date</th>\n",
       "      <th>Close</th>\n",
       "    </tr>\n",
       "  </thead>\n",
       "  <tbody>\n",
       "    <tr>\n",
       "      <th>0</th>\n",
       "      <td>2017-01-03</td>\n",
       "      <td>55.62</td>\n",
       "    </tr>\n",
       "    <tr>\n",
       "      <th>1</th>\n",
       "      <td>2017-01-04</td>\n",
       "      <td>56.45</td>\n",
       "    </tr>\n",
       "    <tr>\n",
       "      <th>2</th>\n",
       "      <td>2017-01-05</td>\n",
       "      <td>56.88</td>\n",
       "    </tr>\n",
       "    <tr>\n",
       "      <th>3</th>\n",
       "      <td>2017-01-06</td>\n",
       "      <td>56.81</td>\n",
       "    </tr>\n",
       "    <tr>\n",
       "      <th>4</th>\n",
       "      <td>2017-01-09</td>\n",
       "      <td>54.73</td>\n",
       "    </tr>\n",
       "  </tbody>\n",
       "</table>\n",
       "</div>"
      ],
      "text/plain": [
       "        Date  Close\n",
       "0 2017-01-03  55.62\n",
       "1 2017-01-04  56.45\n",
       "2 2017-01-05  56.88\n",
       "3 2017-01-06  56.81\n",
       "4 2017-01-09  54.73"
      ]
     },
     "execution_count": 38,
     "metadata": {},
     "output_type": "execute_result"
    }
   ],
   "source": [
    "Data_BRN = Data_BRN.reset_index(drop = True)\n",
    "Data_BRN.head()"
   ]
  },
  {
   "cell_type": "code",
   "execution_count": 39,
   "metadata": {},
   "outputs": [
    {
     "name": "stdout",
     "output_type": "stream",
     "text": [
      "(array([900], dtype=int64),)\n"
     ]
    }
   ],
   "source": [
    "print(np.where(Data_BRN['Date'] == '2020-06-26'))"
   ]
  },
  {
   "cell_type": "code",
   "execution_count": 40,
   "metadata": {},
   "outputs": [
    {
     "name": "stdout",
     "output_type": "stream",
     "text": [
      "<class 'pandas.core.frame.DataFrame'>\n",
      "RangeIndex: 906 entries, 0 to 905\n",
      "Data columns (total 2 columns):\n",
      "Date     906 non-null datetime64[ns]\n",
      "Close    906 non-null float64\n",
      "dtypes: datetime64[ns](1), float64(1)\n",
      "memory usage: 14.2 KB\n"
     ]
    }
   ],
   "source": [
    "Data_BRN.info()"
   ]
  },
  {
   "cell_type": "code",
   "execution_count": 41,
   "metadata": {},
   "outputs": [
    {
     "name": "stdout",
     "output_type": "stream",
     "text": [
      "        Date  Close\n",
      "0 2017-01-03  55.62\n",
      "1 2017-01-04  56.45\n",
      "2 2017-01-05  56.88\n",
      "3 2017-01-06  56.81\n",
      "4 2017-01-09  54.73\n",
      "          Date  Close\n",
      "896 2020-06-22  42.97\n",
      "897 2020-06-23  42.45\n",
      "898 2020-06-24  40.55\n",
      "899 2020-06-25  41.44\n",
      "900 2020-06-26  40.65\n"
     ]
    }
   ],
   "source": [
    "Data_BRN.drop(Data_BRN.index[range(901, 906)], inplace = True)\n",
    "Data_BRN = Data_BRN.reset_index(drop = True)\n",
    "print(Data_BRN.head())\n",
    "print(Data_BRN.tail())"
   ]
  },
  {
   "cell_type": "code",
   "execution_count": 42,
   "metadata": {},
   "outputs": [
    {
     "name": "stdout",
     "output_type": "stream",
     "text": [
      "          Date  Close_HO  Close_CL     CL-HO  HO_USD  CL_USD  HO_USD_CUM  \\\n",
      "894 2020-06-22    1.2282     40.56  1.577974  1096.2  1090.0    -19063.8   \n",
      "895 2020-06-23    1.2109     39.98  1.547061  -726.6  -580.0    -19790.4   \n",
      "896 2020-06-24    1.1634     38.06  1.134671 -1995.0 -1920.0    -21785.4   \n",
      "897 2020-06-25    1.1738     39.01  1.754584   436.8   950.0    -21348.6   \n",
      "898 2020-06-26    1.1768     39.00  1.649366   126.0   -10.0    -21222.6   \n",
      "\n",
      "     CL_USD_CUM    CL-HO_USD  \n",
      "894    -11910.0  2496.400973  \n",
      "895    -12490.0  2465.488298  \n",
      "896    -14410.0  2053.098006  \n",
      "897    -13460.0  2673.010828  \n",
      "898    -13470.0  2567.793373  \n",
      "          Date  Close\n",
      "894 2020-06-22  42.97\n",
      "895 2020-06-23  42.45\n",
      "896 2020-06-24  40.55\n",
      "897 2020-06-25  41.44\n",
      "898 2020-06-26  40.65\n"
     ]
    }
   ],
   "source": [
    "i = 0\n",
    "while i < len(Data_Spread['Date']):\n",
    "    if Data_BRN['Date'][i] != Data_Spread['Date'][i]:\n",
    "        if Data_BRN['Date'][i] < Data_Spread['Date'][i]:\n",
    "            Data_BRN.drop([i], inplace = True)\n",
    "            Data_BRN = Data_BRN.reset_index(drop=True)\n",
    "            #i = i + 1\n",
    "        else: \n",
    "            Data_Spread.drop([i], inplace = True)\n",
    "            Data_Spread = Data_Spread.reset_index(drop=True)\n",
    "            #i = i + 1\n",
    "    else: i = i + 1\n",
    "        \n",
    "print(Data_Spread.tail())\n",
    "print(Data_BRN.tail())"
   ]
  },
  {
   "cell_type": "code",
   "execution_count": 43,
   "metadata": {},
   "outputs": [
    {
     "data": {
      "text/html": [
       "<div>\n",
       "<style scoped>\n",
       "    .dataframe tbody tr th:only-of-type {\n",
       "        vertical-align: middle;\n",
       "    }\n",
       "\n",
       "    .dataframe tbody tr th {\n",
       "        vertical-align: top;\n",
       "    }\n",
       "\n",
       "    .dataframe thead th {\n",
       "        text-align: right;\n",
       "    }\n",
       "</style>\n",
       "<table border=\"1\" class=\"dataframe\">\n",
       "  <thead>\n",
       "    <tr style=\"text-align: right;\">\n",
       "      <th></th>\n",
       "      <th>Date</th>\n",
       "      <th>Close_BRN</th>\n",
       "    </tr>\n",
       "  </thead>\n",
       "  <tbody>\n",
       "    <tr>\n",
       "      <th>0</th>\n",
       "      <td>2017-01-03</td>\n",
       "      <td>55.62</td>\n",
       "    </tr>\n",
       "    <tr>\n",
       "      <th>1</th>\n",
       "      <td>2017-01-04</td>\n",
       "      <td>56.45</td>\n",
       "    </tr>\n",
       "    <tr>\n",
       "      <th>2</th>\n",
       "      <td>2017-01-05</td>\n",
       "      <td>56.88</td>\n",
       "    </tr>\n",
       "    <tr>\n",
       "      <th>3</th>\n",
       "      <td>2017-01-06</td>\n",
       "      <td>56.81</td>\n",
       "    </tr>\n",
       "    <tr>\n",
       "      <th>4</th>\n",
       "      <td>2017-01-09</td>\n",
       "      <td>54.73</td>\n",
       "    </tr>\n",
       "  </tbody>\n",
       "</table>\n",
       "</div>"
      ],
      "text/plain": [
       "        Date  Close_BRN\n",
       "0 2017-01-03      55.62\n",
       "1 2017-01-04      56.45\n",
       "2 2017-01-05      56.88\n",
       "3 2017-01-06      56.81\n",
       "4 2017-01-09      54.73"
      ]
     },
     "execution_count": 43,
     "metadata": {},
     "output_type": "execute_result"
    }
   ],
   "source": [
    "Data_BRN.rename(columns = {'Close': 'Close_BRN'}, inplace = True)\n",
    "Data_BRN.head()"
   ]
  },
  {
   "cell_type": "code",
   "execution_count": 44,
   "metadata": {
    "scrolled": true
   },
   "outputs": [
    {
     "data": {
      "text/html": [
       "<div>\n",
       "<style scoped>\n",
       "    .dataframe tbody tr th:only-of-type {\n",
       "        vertical-align: middle;\n",
       "    }\n",
       "\n",
       "    .dataframe tbody tr th {\n",
       "        vertical-align: top;\n",
       "    }\n",
       "\n",
       "    .dataframe thead th {\n",
       "        text-align: right;\n",
       "    }\n",
       "</style>\n",
       "<table border=\"1\" class=\"dataframe\">\n",
       "  <thead>\n",
       "    <tr style=\"text-align: right;\">\n",
       "      <th></th>\n",
       "      <th>Date</th>\n",
       "      <th>Close_HO</th>\n",
       "      <th>Close_CL</th>\n",
       "      <th>CL-HO</th>\n",
       "      <th>HO_USD</th>\n",
       "      <th>CL_USD</th>\n",
       "      <th>HO_USD_CUM</th>\n",
       "      <th>CL_USD_CUM</th>\n",
       "      <th>CL-HO_USD</th>\n",
       "      <th>Close_BRN</th>\n",
       "    </tr>\n",
       "  </thead>\n",
       "  <tbody>\n",
       "    <tr>\n",
       "      <th>0</th>\n",
       "      <td>2017-01-03</td>\n",
       "      <td>1.6821</td>\n",
       "      <td>52.47</td>\n",
       "      <td>-0.918427</td>\n",
       "      <td>0.0</td>\n",
       "      <td>0.0</td>\n",
       "      <td>0.0</td>\n",
       "      <td>0.0</td>\n",
       "      <td>0.000000</td>\n",
       "      <td>55.62</td>\n",
       "    </tr>\n",
       "    <tr>\n",
       "      <th>1</th>\n",
       "      <td>2017-01-04</td>\n",
       "      <td>1.6866</td>\n",
       "      <td>53.34</td>\n",
       "      <td>-0.191253</td>\n",
       "      <td>189.0</td>\n",
       "      <td>870.0</td>\n",
       "      <td>189.0</td>\n",
       "      <td>870.0</td>\n",
       "      <td>727.173817</td>\n",
       "      <td>56.45</td>\n",
       "    </tr>\n",
       "    <tr>\n",
       "      <th>2</th>\n",
       "      <td>2017-01-05</td>\n",
       "      <td>1.6956</td>\n",
       "      <td>53.75</td>\n",
       "      <td>-0.066906</td>\n",
       "      <td>378.0</td>\n",
       "      <td>410.0</td>\n",
       "      <td>567.0</td>\n",
       "      <td>1280.0</td>\n",
       "      <td>851.521452</td>\n",
       "      <td>56.88</td>\n",
       "    </tr>\n",
       "    <tr>\n",
       "      <th>3</th>\n",
       "      <td>2017-01-06</td>\n",
       "      <td>1.6958</td>\n",
       "      <td>53.65</td>\n",
       "      <td>-0.173254</td>\n",
       "      <td>8.4</td>\n",
       "      <td>-100.0</td>\n",
       "      <td>575.4</td>\n",
       "      <td>1180.0</td>\n",
       "      <td>745.173621</td>\n",
       "      <td>56.81</td>\n",
       "    </tr>\n",
       "    <tr>\n",
       "      <th>4</th>\n",
       "      <td>2017-01-09</td>\n",
       "      <td>1.6337</td>\n",
       "      <td>51.77</td>\n",
       "      <td>-0.082252</td>\n",
       "      <td>-2608.2</td>\n",
       "      <td>-1880.0</td>\n",
       "      <td>-2032.8</td>\n",
       "      <td>-700.0</td>\n",
       "      <td>836.174944</td>\n",
       "      <td>54.73</td>\n",
       "    </tr>\n",
       "  </tbody>\n",
       "</table>\n",
       "</div>"
      ],
      "text/plain": [
       "        Date  Close_HO  Close_CL     CL-HO  HO_USD  CL_USD  HO_USD_CUM  \\\n",
       "0 2017-01-03    1.6821     52.47 -0.918427     0.0     0.0         0.0   \n",
       "1 2017-01-04    1.6866     53.34 -0.191253   189.0   870.0       189.0   \n",
       "2 2017-01-05    1.6956     53.75 -0.066906   378.0   410.0       567.0   \n",
       "3 2017-01-06    1.6958     53.65 -0.173254     8.4  -100.0       575.4   \n",
       "4 2017-01-09    1.6337     51.77 -0.082252 -2608.2 -1880.0     -2032.8   \n",
       "\n",
       "   CL_USD_CUM   CL-HO_USD  Close_BRN  \n",
       "0         0.0    0.000000      55.62  \n",
       "1       870.0  727.173817      56.45  \n",
       "2      1280.0  851.521452      56.88  \n",
       "3      1180.0  745.173621      56.81  \n",
       "4      -700.0  836.174944      54.73  "
      ]
     },
     "execution_count": 44,
     "metadata": {},
     "output_type": "execute_result"
    }
   ],
   "source": [
    "Data_Spread['Close_BRN'] = Data_BRN['Close_BRN']\n",
    "Data_Spread.head()"
   ]
  },
  {
   "cell_type": "code",
   "execution_count": 78,
   "metadata": {
    "scrolled": true
   },
   "outputs": [
    {
     "name": "stdout",
     "output_type": "stream",
     "text": [
      "Coefficients:  [[35.56340036]]\n"
     ]
    },
    {
     "data": {
      "image/png": "[encoded data removed]",
      "text/plain": [
       "<Figure size 432x288 with 1 Axes>"
      ]
     },
     "metadata": {
      "needs_background": "light"
     },
     "output_type": "display_data"
    }
   ],
   "source": [
    "x = Data_Spread[['Close_HO']]\n",
    "y = Data_Spread[['Close_BRN']]\n",
    "regr.fit (x, y)\n",
    "# The coefficients\n",
    "print ('Coefficients: ', regr.coef_)\n",
    "Data_Spread['BRN - HO'] = Data_Spread['Close_BRN'] - regr.coef_[0][0] * Data_Spread['Close_HO']\n",
    "\n",
    "x = Data_Spread['Date']\n",
    "y = Data_Spread['BRN - HO']\n",
    "plt.plot(x, y)\n",
    "plt.title('BRN - 35.563*HO');\n",
    "plt.axhline(y=0, color='r', linestyle='--');\n",
    "plt.axhline(y=-9, color='r', linestyle='--');\n",
    "plt.xlabel('Date');\n",
    "plt.ylabel('Price');\n"
   ]
  },
  {
   "cell_type": "markdown",
   "metadata": {},
   "source": [
    "### Let's check if the given time series is stationary. To do this, we use the Dickey-Fuller test and the p-value"
   ]
  },
  {
   "cell_type": "code",
   "execution_count": 46,
   "metadata": {
    "scrolled": true
   },
   "outputs": [
    {
     "name": "stdout",
     "output_type": "stream",
     "text": [
      "p-value:  0.03442700962365738\n"
     ]
    }
   ],
   "source": [
    "X = Data_Spread['BRN - HO']\n",
    "result = adfuller(X)\n",
    "#print('ADF Statistic: %f' % result[0])\n",
    "print('p-value: ',  result[1])"
   ]
  },
  {
   "cell_type": "markdown",
   "metadata": {},
   "source": [
    "#### As you can see from the p-value, this spread is also suitable for trading a range strategy"
   ]
  },
  {
   "cell_type": "markdown",
   "metadata": {},
   "source": [
    "### Let's take a look at the spread between two grades of oil"
   ]
  },
  {
   "cell_type": "code",
   "execution_count": 92,
   "metadata": {
    "scrolled": true
   },
   "outputs": [
    {
     "name": "stdout",
     "output_type": "stream",
     "text": [
      "Coefficients:  [[0.89923756]]\n"
     ]
    },
    {
     "data": {
      "image/png": "[encoded data removed]",
      "text/plain": [
       "<Figure size 432x288 with 1 Axes>"
      ]
     },
     "metadata": {
      "needs_background": "light"
     },
     "output_type": "display_data"
    }
   ],
   "source": [
    "x = Data_Spread[['Close_BRN']]\n",
    "y = Data_Spread[['Close_CL']]\n",
    "regr.fit (x, y)\n",
    "# The coefficients\n",
    "print ('Coefficients: ', regr.coef_)\n",
    "Data_Spread['CL - BRN'] = (Data_Spread['Close_CL'] - regr.coef_[0][0] * Data_Spread['Close_BRN'])\n",
    "\n",
    "x = Data_Spread['Date']\n",
    "y = Data_Spread['CL - BRN']\n",
    "plt.plot(x, y)\n",
    "plt.title('BRN - 35.563*HO');\n",
    "plt.axhline(y=4, color='r', linestyle='--');\n",
    "plt.axhline(y=-3, color='r', linestyle='--');\n",
    "plt.xlabel('Date');\n",
    "plt.ylabel('Price');\n"
   ]
  },
  {
   "cell_type": "code",
   "execution_count": 48,
   "metadata": {},
   "outputs": [
    {
     "name": "stdout",
     "output_type": "stream",
     "text": [
      "p-value:  0.05133505736911242\n"
     ]
    }
   ],
   "source": [
    "X = Data_Spread['CL - BRN']\n",
    "result = adfuller(X)\n",
    "#print('ADF Statistic: %f' % result[0])\n",
    "print('p-value: ',  result[1])"
   ]
  },
  {
   "cell_type": "markdown",
   "metadata": {},
   "source": [
    "#### The p value in this case is greater than 0.05. This time series cannot be called stationary. Also, if you evaluate it visually, you can see a small downtrend. This spread is not very suitable for trading."
   ]
  },
  {
   "cell_type": "markdown",
   "metadata": {},
   "source": [
    "### Next, we will use multiple linear regression and build a spread of three trading instruments (also called a basket)"
   ]
  },
  {
   "cell_type": "code",
   "execution_count": 49,
   "metadata": {},
   "outputs": [
    {
     "data": {
      "text/html": [
       "<div>\n",
       "<style scoped>\n",
       "    .dataframe tbody tr th:only-of-type {\n",
       "        vertical-align: middle;\n",
       "    }\n",
       "\n",
       "    .dataframe tbody tr th {\n",
       "        vertical-align: top;\n",
       "    }\n",
       "\n",
       "    .dataframe thead th {\n",
       "        text-align: right;\n",
       "    }\n",
       "</style>\n",
       "<table border=\"1\" class=\"dataframe\">\n",
       "  <thead>\n",
       "    <tr style=\"text-align: right;\">\n",
       "      <th></th>\n",
       "      <th>Basket_HO</th>\n",
       "      <th>Basket_CL</th>\n",
       "      <th>Basket_BRN</th>\n",
       "    </tr>\n",
       "  </thead>\n",
       "  <tbody>\n",
       "    <tr>\n",
       "      <th>0</th>\n",
       "      <td>0.191774</td>\n",
       "      <td>3.592818</td>\n",
       "      <td>-3.685313</td>\n",
       "    </tr>\n",
       "    <tr>\n",
       "      <th>1</th>\n",
       "      <td>0.174575</td>\n",
       "      <td>3.600584</td>\n",
       "      <td>-3.423804</td>\n",
       "    </tr>\n",
       "    <tr>\n",
       "      <th>2</th>\n",
       "      <td>0.172080</td>\n",
       "      <td>3.606889</td>\n",
       "      <td>-3.383721</td>\n",
       "    </tr>\n",
       "    <tr>\n",
       "      <th>3</th>\n",
       "      <td>0.173945</td>\n",
       "      <td>3.583345</td>\n",
       "      <td>-3.401097</td>\n",
       "    </tr>\n",
       "    <tr>\n",
       "      <th>4</th>\n",
       "      <td>0.168088</td>\n",
       "      <td>3.536377</td>\n",
       "      <td>-3.323726</td>\n",
       "    </tr>\n",
       "  </tbody>\n",
       "</table>\n",
       "</div>"
      ],
      "text/plain": [
       "   Basket_HO  Basket_CL  Basket_BRN\n",
       "0   0.191774   3.592818   -3.685313\n",
       "1   0.174575   3.600584   -3.423804\n",
       "2   0.172080   3.606889   -3.383721\n",
       "3   0.173945   3.583345   -3.401097\n",
       "4   0.168088   3.536377   -3.323726"
      ]
     },
     "execution_count": 49,
     "metadata": {},
     "output_type": "execute_result"
    }
   ],
   "source": [
    "x_basket = Data_Spread[['Close_BRN', 'Close_CL']]\n",
    "y_basket = Data_Spread[['Close_HO']]\n",
    "regr.fit(x_basket, y_basket)\n",
    "Data_Spread['Basket_HO'] = Data_Spread['Close_HO'] - regr.coef_[0][0] * Data_Spread['Close_BRN'] - regr.coef_[0][1] * Data_Spread['Close_CL']\n",
    "\n",
    "x_basket = Data_Spread[['Close_HO', 'Close_BRN']]\n",
    "y_basket = Data_Spread[['Close_CL']]\n",
    "regr.fit(x_basket, y_basket)\n",
    "Data_Spread['Basket_CL'] = Data_Spread['Close_CL'] - regr.coef_[0][0] * Data_Spread['Close_HO'] - regr.coef_[0][1] * Data_Spread['Close_BRN']\n",
    "\n",
    "x_basket = Data_Spread[['Close_HO', 'Close_CL']]\n",
    "y_basket = Data_Spread[['Close_BRN']]\n",
    "regr.fit(x_basket, y_basket)\n",
    "Data_Spread['Basket_BRN'] = Data_Spread['Close_BRN'] - regr.coef_[0][0] * Data_Spread['Close_HO'] - regr.coef_[0][1] * Data_Spread['Close_CL']\n",
    "\n",
    "Data_Basket = Data_Spread[['Basket_HO','Basket_CL','Basket_BRN']]\n",
    "Data_Basket.head()"
   ]
  },
  {
   "cell_type": "code",
   "execution_count": 94,
   "metadata": {
    "scrolled": true
   },
   "outputs": [
    {
     "data": {
      "image/png": "[encoded data removed]",
      "text/plain": [
       "<Figure size 432x288 with 1 Axes>"
      ]
     },
     "metadata": {
      "needs_background": "light"
     },
     "output_type": "display_data"
    }
   ],
   "source": [
    "x = Data_Spread['Date']\n",
    "y = Data_Basket['Basket_HO']\n",
    "plt.plot(x, y)\n",
    "plt.title('Basket HO');\n",
    "plt.axhline(y=0.3, color='r', linestyle='--');\n",
    "plt.axhline(y=0.1, color='r', linestyle='--');\n",
    "plt.xlabel('Date');\n",
    "plt.ylabel('Price');"
   ]
  },
  {
   "cell_type": "code",
   "execution_count": 51,
   "metadata": {},
   "outputs": [
    {
     "name": "stdout",
     "output_type": "stream",
     "text": [
      "p-value:  0.027506674628512764\n"
     ]
    }
   ],
   "source": [
    "X = Data_Basket['Basket_HO']\n",
    "result = adfuller(X)\n",
    "#print('ADF Statistic: %f' % result[0])\n",
    "print('p-value: ',  result[1])"
   ]
  },
  {
   "cell_type": "markdown",
   "metadata": {},
   "source": [
    "#### Despite an acceptable p-value, visual assessment shows that the last downside blow is breaking the previously established sideways trend. This basket loses in priority to the CL - HO spread"
   ]
  },
  {
   "cell_type": "code",
   "execution_count": 96,
   "metadata": {
    "scrolled": true
   },
   "outputs": [
    {
     "data": {
      "image/png": "[encoded data removed]",
      "text/plain": [
       "<Figure size 432x288 with 1 Axes>"
      ]
     },
     "metadata": {
      "needs_background": "light"
     },
     "output_type": "display_data"
    }
   ],
   "source": [
    "x = Data_Spread['Date']\n",
    "y = Data_Basket['Basket_CL']\n",
    "plt.plot(x, y)\n",
    "plt.title('Basket_CL');\n",
    "plt.axhline(y=4, color='r', linestyle='--');\n",
    "plt.axhline(y=-2, color='r', linestyle='--');\n",
    "plt.xlabel('Date');\n",
    "plt.ylabel('Price');"
   ]
  },
  {
   "cell_type": "code",
   "execution_count": 53,
   "metadata": {},
   "outputs": [
    {
     "name": "stdout",
     "output_type": "stream",
     "text": [
      "p-value:  0.046664961893467694\n"
     ]
    }
   ],
   "source": [
    "X = Data_Basket['Basket_CL']\n",
    "result = adfuller(X)\n",
    "#print('ADF Statistic: %f' % result[0])\n",
    "print('p-value: ',  result[1])"
   ]
  },
  {
   "cell_type": "markdown",
   "metadata": {},
   "source": [
    "#### Despite an acceptable p-value, visual assessment shows that the last downside blow is breaking the previously established sideways trend. This basket loses in priority to the CL - HO spread"
   ]
  },
  {
   "cell_type": "code",
   "execution_count": 97,
   "metadata": {},
   "outputs": [
    {
     "data": {
      "image/png": "[encoded data removed]",
      "text/plain": [
       "<Figure size 432x288 with 1 Axes>"
      ]
     },
     "metadata": {
      "needs_background": "light"
     },
     "output_type": "display_data"
    }
   ],
   "source": [
    "x = Data_Spread['Date']\n",
    "y = Data_Basket['Basket_BRN']\n",
    "plt.plot(x, y)\n",
    "plt.title('Basket_BRN');\n",
    "plt.axhline(y=1, color='r', linestyle='--');\n",
    "plt.axhline(y=-5, color='r', linestyle='--');\n",
    "plt.xlabel('Date');\n",
    "plt.ylabel('Price');"
   ]
  },
  {
   "cell_type": "code",
   "execution_count": 55,
   "metadata": {},
   "outputs": [
    {
     "name": "stdout",
     "output_type": "stream",
     "text": [
      "p-value:  0.022670089474767022\n"
     ]
    }
   ],
   "source": [
    "X = Data_Basket['Basket_BRN']\n",
    "result = adfuller(X)\n",
    "#print('ADF Statistic: %f' % result[0])\n",
    "print('p-value: ',  result[1])"
   ]
  },
  {
   "cell_type": "markdown",
   "metadata": {},
   "source": [
    "#### Acceptable basket for trading with borders from 1 top to -5 bottom"
   ]
  },
  {
   "cell_type": "markdown",
   "metadata": {},
   "source": [
    "### If you choose a synthetic trading instrument between a spread (of two instruments) and a basket (of three or more instruments), then in this case you should give preference to the spread. Since in terms of stationarity properties it is not inferior to the basket. At the same time, it is easier to trade and commission costs will be lower, when trading is carried out with two instruments instead of three."
   ]
  },
  {
   "cell_type": "code",
   "execution_count": null,
   "metadata": {},
   "outputs": [],
   "source": []
  }
 ],
 "metadata": {
  "kernelspec": {
   "display_name": "Python 3",
   "language": "python",
   "name": "python3"
  },
  "language_info": {
   "codemirror_mode": {
    "name": "ipython",
    "version": 3
   },
   "file_extension": ".py",
   "mimetype": "text/x-python",
   "name": "python",
   "nbconvert_exporter": "python",
   "pygments_lexer": "ipython3",
   "version": "3.7.3"
  }
 },
 "nbformat": 4,
 "nbformat_minor": 2
}
